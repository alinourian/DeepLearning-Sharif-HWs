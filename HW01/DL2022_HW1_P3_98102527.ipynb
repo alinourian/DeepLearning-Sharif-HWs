{
  "cells": [
    {
      "cell_type": "markdown",
      "metadata": {
        "deletable": false,
        "editable": false,
        "heading_collapsed": true,
        "run_control": {
          "frozen": true
        },
        "id": "VGyweCjaPBuR"
      },
      "source": [
        "# Deep Learning"
      ]
    },
    {
      "cell_type": "markdown",
      "metadata": {
        "deletable": false,
        "editable": false,
        "heading_collapsed": true,
        "hidden": true,
        "run_control": {
          "frozen": true
        },
        "id": "S5U29QHePBuU"
      },
      "source": [
        "## HW1- Problem 3 - Regression (100 pts)"
      ]
    },
    {
      "cell_type": "markdown",
      "metadata": {
        "heading_collapsed": true,
        "hidden": true,
        "id": "6WdD9yH9PBuV"
      },
      "source": [
        "### Please fill this part\n",
        "\n",
        "\n",
        "1.   Full Name: Ali Nourian\n",
        "2.   Student Number: 98102527\n",
        "\n",
        "\n",
        "*You are just allowded to change those parts that start with \"TO DO\". Please do not change other parts.*\n",
        "\n",
        "*It is highly recommended to read each codeline carefully and try to understand what it exactly does. Best of luck and have fun!*"
      ]
    },
    {
      "cell_type": "code",
      "execution_count": 1,
      "metadata": {
        "hidden": true,
        "id": "PupINC6QPBuW"
      },
      "outputs": [],
      "source": [
        "# You are not allowed to import other packages.\n",
        "\n",
        "import numpy as np\n",
        "import pandas as pd\n",
        "\n",
        "from matplotlib import pyplot as plt\n",
        "from sklearn.metrics import mean_squared_error"
      ]
    },
    {
      "cell_type": "markdown",
      "metadata": {
        "deletable": false,
        "editable": false,
        "heading_collapsed": true,
        "hidden": true,
        "run_control": {
          "frozen": true
        },
        "id": "8nkG6TK1PBuX"
      },
      "source": [
        "### Part1:\n",
        "Consider the dataset which has been given to you. Split the dataset into the `training dataset` and `test dataset`. You can use `80%` of the data for training and the rest for testing."
      ]
    },
    {
      "cell_type": "code",
      "execution_count": 32,
      "metadata": {
        "hidden": true,
        "id": "lRILkxhdPBuX"
      },
      "outputs": [],
      "source": [
        "dataset = pd.read_csv(\"data01.csv\")\n",
        "\n",
        "# implement the split part\n",
        "# name them: x_train, x_test, y_train, y_test\n",
        "\n",
        "r = np.arange(0, len(dataset))\n",
        "np.random.shuffle(r)\n",
        "threshold = int(0.8 * len(dataset))\n",
        "\n",
        "train_index = r[:threshold]\n",
        "test_index = r[threshold:]\n",
        "\n",
        "x_train = np.array(dataset.X[train_index])\n",
        "y_train = np.array(dataset.Y[train_index])\n",
        "\n",
        "\n",
        "x_test = np.array(dataset.X[test_index])\n",
        "y_test = np.array(dataset.Y[test_index])\n"
      ]
    },
    {
      "cell_type": "markdown",
      "metadata": {
        "deletable": false,
        "editable": false,
        "heading_collapsed": true,
        "hidden": true,
        "run_control": {
          "frozen": true
        },
        "id": "zPo_E7pkPBuY"
      },
      "source": [
        "### Part2:\n",
        "Assume there is simple linear relationship between X and Y. Train a simple `Linear Regression` on the training dataset and report its accuracy on the training and testing dataset, separately."
      ]
    },
    {
      "cell_type": "code",
      "execution_count": 3,
      "metadata": {
        "hidden": true,
        "id": "guC5s5_1PBuY",
        "colab": {
          "base_uri": "https://localhost:8080/"
        },
        "outputId": "7dd59ab1-6b9e-42c9-9dc0-ec22ce13c3de"
      },
      "outputs": [
        {
          "output_type": "stream",
          "name": "stdout",
          "text": [
            "[-1.03117851  0.83816766]\n"
          ]
        }
      ],
      "source": [
        "# here you can implement via sgd or use least square solution. we suggest the second one inv(A^T A) * A^T y.\n",
        "# consider m as the returned line --> m[0] = the slope , m[1] = y intercept, also don't forget to use numpy for calculating m.\n",
        "D = len(x_train)\n",
        "A = np.concatenate((x_train.reshape(D, 1), np.ones((D, 1))), axis=1)\n",
        "\n",
        "m = np.linalg.inv(A.T.dot(A)).dot(A.T).dot(y_train)\n",
        "\n",
        "print(m)"
      ]
    },
    {
      "cell_type": "code",
      "execution_count": 4,
      "metadata": {
        "hidden": true,
        "id": "jZz8QsXpPBuZ",
        "colab": {
          "base_uri": "https://localhost:8080/"
        },
        "outputId": "aec46fa5-1abc-44cd-b52a-b5c6bbcbe6b1"
      },
      "outputs": [
        {
          "output_type": "stream",
          "name": "stdout",
          "text": [
            "MSE train error: 0.329526709345841\n",
            "MSE test error: 0.33514749896835233\n"
          ]
        }
      ],
      "source": [
        "predicted_train_y = m[0] * x_train + m[1]\n",
        "predicted_test_y = m[0] * x_test + m[1]\n",
        "\n",
        "train_error = 1. / len(x_train) * ((predicted_train_y - y_train) ** 2).sum()\n",
        "test_error = 1. / len(x_test) * ((predicted_test_y - y_test) ** 2).sum()\n",
        "\n",
        "print(f\"MSE train error: {train_error}\\nMSE test error: {test_error}\")"
      ]
    },
    {
      "cell_type": "markdown",
      "metadata": {
        "deletable": false,
        "editable": false,
        "heading_collapsed": true,
        "hidden": true,
        "run_control": {
          "frozen": true
        },
        "id": "FVSCqp-5PBuZ"
      },
      "source": [
        "### Part3:\n",
        "Draw the line you've found in the last part, on train and test points (each separately)."
      ]
    },
    {
      "cell_type": "code",
      "execution_count": 5,
      "metadata": {
        "hidden": true,
        "id": "7t7feP6hPBua",
        "colab": {
          "base_uri": "https://localhost:8080/",
          "height": 299
        },
        "outputId": "944a4336-f9f6-47b4-df11-43f39712586f"
      },
      "outputs": [
        {
          "output_type": "execute_result",
          "data": {
            "text/plain": [
              "Text(0.5, 1.0, 'Train dataset')"
            ]
          },
          "metadata": {},
          "execution_count": 5
        },
        {
          "output_type": "display_data",
          "data": {
            "text/plain": [
              "<Figure size 432x288 with 1 Axes>"
            ],
            "image/png": "[encoded data removed]"
          },
          "metadata": {
            "needs_background": "light"
          }
        }
      ],
      "source": [
        "plt.scatter(x_train, y_train)\n",
        "plt.scatter(x_train, m[0]*x_train + m[1], s=1)\n",
        "plt.title(\"Train dataset\")"
      ]
    },
    {
      "cell_type": "code",
      "execution_count": 6,
      "metadata": {
        "hidden": true,
        "id": "1WuGUiedPBua",
        "colab": {
          "base_uri": "https://localhost:8080/",
          "height": 299
        },
        "outputId": "74cbdd7c-682c-4e4f-fd03-114d8f051630"
      },
      "outputs": [
        {
          "output_type": "execute_result",
          "data": {
            "text/plain": [
              "Text(0.5, 1.0, 'Test dataset')"
            ]
          },
          "metadata": {},
          "execution_count": 6
        },
        {
          "output_type": "display_data",
          "data": {
            "text/plain": [
              "<Figure size 432x288 with 1 Axes>"
            ],
            "image/png": "[encoded data removed]"
          },
          "metadata": {
            "needs_background": "light"
          }
        }
      ],
      "source": [
        "plt.scatter(x_test, y_test)\n",
        "plt.scatter(x_test, m[0]*x_test + m[1], s=1)\n",
        "plt.title(\"Test dataset\")"
      ]
    },
    {
      "cell_type": "markdown",
      "metadata": {
        "deletable": false,
        "editable": false,
        "heading_collapsed": true,
        "hidden": true,
        "run_control": {
          "frozen": true
        },
        "id": "yqgaSax_PBua"
      },
      "source": [
        "### Part4:\n",
        "**Were the reported accuracies acceptable?**\n",
        "\n",
        "The mean square error is not too large (Also it's not too small). Just by looking at the MSE we can say it may be acceptable.\n",
        "\n",
        "**What about the line you drew in the last part?**\n",
        "**Was it appropriate for the dataset?**\n",
        "\n",
        "No. As we can see in the figures above, the predicted line isn't close enough to the original data. The structure or shape of the data is not linear. So it's not appropriate to fit a line to the dataset.\n",
        "\n",
        "<br><br/>\n",
        "**Explain what are the main problems here.**\n",
        "\n",
        "The main problem is we take a wrong model to fit the data. It's important to find the best model to fit the data. As we can see the shape of the data is not linear in the whole x-axis, so we can not fit a line to the whole dataset. It's better to check some curves or higher order polynomial to fit the data to find the better solution."
      ]
    },
    {
      "cell_type": "markdown",
      "metadata": {
        "deletable": false,
        "editable": false,
        "heading_collapsed": true,
        "hidden": true,
        "run_control": {
          "frozen": true
        },
        "id": "iXx53bSmPBub"
      },
      "source": [
        "### Part5:\n",
        "Now, consider the `Locally Weighted Linear Regression` approach for this problem. Do expect it performs better than simple `Linear Regression` for this dataset?"
      ]
    },
    {
      "cell_type": "markdown",
      "metadata": {
        "hidden": true,
        "id": "zMZNDwa7PBub"
      },
      "source": [
        "Yes, the plot shows that we can estimate the points with 4 or more lines to get the higher accuracy. By separating the x-axis to some continuous parts and fit a line for each separated parts."
      ]
    },
    {
      "cell_type": "markdown",
      "metadata": {
        "deletable": false,
        "editable": false,
        "heading_collapsed": true,
        "hidden": true,
        "run_control": {
          "frozen": true
        },
        "id": "lXWfZMuAPBub"
      },
      "source": [
        "### Part6:\n",
        "Here, we want to implement the `suggested model`. You can implement any weight function you want, the below implementation is just a sample:\n",
        "<br><br/>\n",
        "\\begin{equation*}\n",
        "    w^{(i)}=exp\\left(-\\frac{(\\mathbf x^{(i)}-\\mathbf x)^\\top(\\mathbf x^{(i)}-\\mathbf x)}{2\\tau^2}\\right)\n",
        "\\end{equation*}"
      ]
    },
    {
      "cell_type": "code",
      "execution_count": 7,
      "metadata": {
        "hidden": true,
        "id": "I-5AhtsgPBuc"
      },
      "outputs": [],
      "source": [
        "def get_weight_matrix(the_query_point, train_dataset, hyperparameter):\n",
        "    l = train_dataset.shape[0]\n",
        "    W = np.eye(l)\n",
        "\n",
        "    for i, xi in enumerate(train_dataset):\n",
        "        W[i, i] = np.exp(-1.0 / (2 * hyperparameter ** 2) * (xi - the_query_point).dot((xi - the_query_point).T))\n",
        "\n",
        "    return W"
      ]
    },
    {
      "cell_type": "markdown",
      "metadata": {
        "deletable": false,
        "editable": false,
        "hidden": true,
        "run_control": {
          "frozen": true
        },
        "id": "SP3JXpZdPBuc"
      },
      "source": [
        "Now implement the `closed form solution` based on the following formula:\n",
        "<br><br/>\n",
        "\\begin{equation*}\n",
        "    \\boldsymbol\\theta=(X^\\top WX)^{-1}(X^\\top WY)\n",
        "\\end{equation*}\n",
        "<br><br/>\n",
        "Of course if you use another form, implement your own."
      ]
    },
    {
      "cell_type": "code",
      "execution_count": 8,
      "metadata": {
        "hidden": true,
        "id": "axQx9z0JPBuc"
      },
      "outputs": [],
      "source": [
        "def predict(train_X, train_Y, query_x, hyperparameter):\n",
        "    l = train_X.shape[0]\n",
        "\n",
        "    X = np.hstack((train_X.reshape(l, 1), np.ones((l, 1))))\n",
        "    qx = np.array([query_x, 1])\n",
        "    W = get_weight_matrix(qx, X, hyperparameter)\n",
        "\n",
        "    theta = np.linalg.pinv(X.T.dot(W.dot(X))).dot(X.T.dot(W.dot(train_Y)))\n",
        "\n",
        "    return np.dot(qx, theta)"
      ]
    },
    {
      "cell_type": "markdown",
      "metadata": {
        "deletable": false,
        "editable": false,
        "heading_collapsed": true,
        "hidden": true,
        "run_control": {
          "frozen": true
        },
        "id": "nAbFsp6TPBuc"
      },
      "source": [
        "### Part7:\n",
        "Report accuracy of this model on the test dataset. Also, draw a plot that contains (x_test, y_test) pairs and (x_test, predicted_y) pairs that differ in color."
      ]
    },
    {
      "cell_type": "code",
      "execution_count": 21,
      "metadata": {
        "hidden": true,
        "id": "tTdKG0EfPBud",
        "colab": {
          "base_uri": "https://localhost:8080/"
        },
        "outputId": "30e22781-8353-4945-d30c-30da378a4c92"
      },
      "outputs": [
        {
          "output_type": "stream",
          "name": "stdout",
          "text": [
            "MSE test error: 0.0997197009606312\n"
          ]
        }
      ],
      "source": [
        "hyperparameter = 0.04\n",
        "\n",
        "predicted_test = [predict(x_train, y_train, query, hyperparameter) for query in x_test]\n",
        "error = ((predicted_test - y_test) ** 2).mean()\n",
        "print(f\"MSE test error: {error}\")"
      ]
    },
    {
      "cell_type": "code",
      "execution_count": 22,
      "metadata": {
        "hidden": true,
        "id": "G20J05XUPBud",
        "colab": {
          "base_uri": "https://localhost:8080/",
          "height": 283
        },
        "outputId": "9edba6d1-62d2-4d4c-851c-b070f7da8769"
      },
      "outputs": [
        {
          "output_type": "execute_result",
          "data": {
            "text/plain": [
              "<matplotlib.collections.PathCollection at 0x7fbd8eb99e90>"
            ]
          },
          "metadata": {},
          "execution_count": 22
        },
        {
          "output_type": "display_data",
          "data": {
            "text/plain": [
              "<Figure size 432x288 with 1 Axes>"
            ],
            "image/png": "[encoded data removed]"
          },
          "metadata": {
            "needs_background": "light"
          }
        }
      ],
      "source": [
        "plt.scatter(x_test, y_test, c=\"blue\")\n",
        "plt.scatter(x_test, predicted_test, c=\"yellow\")"
      ]
    },
    {
      "cell_type": "markdown",
      "metadata": {
        "deletable": false,
        "editable": false,
        "heading_collapsed": true,
        "hidden": true,
        "run_control": {
          "frozen": true
        },
        "id": "auqv5d5vPBud"
      },
      "source": [
        "### Part8:\n",
        "Is the performance of the new model better than the previous one? `Explain`."
      ]
    },
    {
      "cell_type": "markdown",
      "metadata": {
        "hidden": true,
        "id": "GskqlrgzPBud"
      },
      "source": [
        "-write here-\n",
        "\n",
        "Yes. It's obvious that the new model fit the data so much better than the previous one. The new predictions have the same shape and structure as the original dataset, but the previous one didn't.\n",
        "\n",
        "As we can see the predicted model predicts the points mush closer to the exact points than previous model.\n",
        "\n",
        "Also the MSE has been reduced from 0.3351 to 0.0997"
      ]
    },
    {
      "cell_type": "markdown",
      "metadata": {
        "deletable": false,
        "editable": false,
        "heading_collapsed": true,
        "hidden": true,
        "run_control": {
          "frozen": true
        },
        "id": "KAsmf1m2PBud"
      },
      "source": [
        "### Part9:\n",
        "Now, we want to consider the `KNN` approach for this problem; Do you think it will perform well?"
      ]
    },
    {
      "cell_type": "markdown",
      "metadata": {
        "hidden": true,
        "id": "aJJLn91tPBud"
      },
      "source": [
        "-write here-\n",
        "\n",
        "Yes, for this dataset KNN is also a good model."
      ]
    },
    {
      "cell_type": "markdown",
      "metadata": {
        "deletable": false,
        "editable": false,
        "heading_collapsed": true,
        "hidden": true,
        "run_control": {
          "frozen": true
        },
        "id": "rBmJTejlPBud"
      },
      "source": [
        "### Part10:\n",
        "Implementing the `KNN model`."
      ]
    },
    {
      "cell_type": "code",
      "execution_count": 23,
      "metadata": {
        "hidden": true,
        "id": "JCVVwmH2PBue"
      },
      "outputs": [],
      "source": [
        "class KNN:\n",
        "    def __init__(self, number_neighbours, X, Y):\n",
        "        self.k = number_neighbours\n",
        "        self.X = X\n",
        "        self.Y = Y\n",
        "\n",
        "    def distance(self, x1, x2):\n",
        "        distance = abs(x1 - x2) # implement the distance function\n",
        "        return distance\n",
        "\n",
        "    def return_nn_ids(self, x):\n",
        "        distances = self.distance(self.X, x)\n",
        "        indices = np.argpartition(distances, self.k)[:k] # find indices of k nearest neighbours to x\n",
        "        return indices\n",
        "\n",
        "    def predict(self, x):\n",
        "        nearest_indices = self.return_nn_ids(x)\n",
        "        predicted_y = np.mean(self.Y[nearest_indices], axis=0)\n",
        "        return predicted_y"
      ]
    },
    {
      "cell_type": "code",
      "execution_count": 24,
      "metadata": {
        "hidden": true,
        "id": "gAC73-gSPBue"
      },
      "outputs": [],
      "source": [
        "def evaluation(k, x_train, y_train, x_test, y_test):\n",
        "    model = KNN(k, x_train, y_train)\n",
        "    predicted_y = [model.predict(x) for x in x_test]\n",
        "    error = ((predicted_y - y_test) ** 2).mean()\n",
        "    return error, predicted_y"
      ]
    },
    {
      "cell_type": "code",
      "execution_count": 52,
      "metadata": {
        "hidden": true,
        "id": "qRxSfZrGPBue",
        "colab": {
          "base_uri": "https://localhost:8080/"
        },
        "outputId": "cbb371de-6258-4940-d8cb-4b5250963a66"
      },
      "outputs": [
        {
          "output_type": "stream",
          "name": "stdout",
          "text": [
            "MSE error of KNN for train dataset: 0.08211991220370232\n",
            "MSE error of KNN for test dataset: 0.11667123699364801\n"
          ]
        }
      ],
      "source": [
        "k = 10\n",
        "\n",
        "error_knn_train, predicted_y = evaluation(k, x_train, y_train, x_train, y_train)\n",
        "print(f\"MSE error of KNN for train dataset: {error_knn_train}\")\n",
        "\n",
        "error_knn, predicted_y = evaluation(k, x_train, y_train, x_test, y_test)\n",
        "print(f\"MSE error of KNN for test dataset: {error_knn}\")"
      ]
    },
    {
      "cell_type": "code",
      "execution_count": 30,
      "metadata": {
        "hidden": true,
        "id": "QlOgLO7DPBue",
        "colab": {
          "base_uri": "https://localhost:8080/",
          "height": 283
        },
        "outputId": "d014d044-fd05-4d08-9795-064762759a68"
      },
      "outputs": [
        {
          "output_type": "execute_result",
          "data": {
            "text/plain": [
              "<matplotlib.collections.PathCollection at 0x7fbd8eadfc90>"
            ]
          },
          "metadata": {},
          "execution_count": 30
        },
        {
          "output_type": "display_data",
          "data": {
            "text/plain": [
              "<Figure size 432x288 with 1 Axes>"
            ],
            "image/png": "[encoded data removed]"
          },
          "metadata": {
            "needs_background": "light"
          }
        }
      ],
      "source": [
        "plt.scatter(x_test, y_test, c=\"blue\")\n",
        "plt.scatter(x_test, predicted_y, c=\"yellow\")"
      ]
    },
    {
      "cell_type": "code",
      "source": [
        "# cross validation\n",
        "\n",
        "D = len(dataset)\n",
        "\n",
        "knn_train_errors = []\n",
        "knn_test_errors = []\n",
        "\n",
        "for k in np.arange(2, 20):\n",
        "  step = int(D / 5)\n",
        "  tresh = 0\n",
        "  while True:\n",
        "    tresh += step\n",
        "    train_index = np.arange(start=tresh-step, stop=tresh)\n",
        "    test_index = np.concatenate((np.arange(start=0, stop=tresh-step), np.arange(start=tresh, stop=D)))\n",
        "\n",
        "    x_train = np.array(dataset.X[train_index])\n",
        "    y_train = np.array(dataset.Y[train_index])\n",
        "\n",
        "    x_test = np.array(dataset.X[test_index])\n",
        "    y_test = np.array(dataset.Y[test_index])\n",
        "\n",
        "    error_knn_train, predicted_y = evaluation(k, x_train, y_train, x_train, y_train)\n",
        "    knn_train_errors.append(error_knn_train)\n",
        "    # print(f\"MSE error of KNN for train dataset: {error_knn_train}\")\n",
        "\n",
        "    error_knn_test, predicted_y = evaluation(k, x_train, y_train, x_test, y_test)\n",
        "    knn_test_errors.append(error_knn_test)\n",
        "    # print(f\"MSE error of KNN for test dataset: {error_knn_test}\")\n",
        "\n",
        "    if tresh == D:\n",
        "      break\n",
        "  print(f\"K = {k}:  \\n\\tAverage MSE error of KNN for train dataset: {np.mean(knn_train_errors)}\\n\\tAverage MSE error of KNN for test dataset: {np.mean(knn_test_errors)}\\n\")"
      ],
      "metadata": {
        "colab": {
          "base_uri": "https://localhost:8080/"
        },
        "id": "9i8KI5_EX14J",
        "outputId": "8ade6259-989d-4c3f-90cd-4df606c2c5df"
      },
      "execution_count": 50,
      "outputs": [
        {
          "output_type": "stream",
          "name": "stdout",
          "text": [
            "K = 2:  \n",
            "\tAverage MSE error of KNN for train dataset: 0.04743859203255442\n",
            "\tAverage MSE error of KNN for test dataset: 0.1284869264606673\n",
            "\n",
            "K = 3:  \n",
            "\tAverage MSE error of KNN for train dataset: 0.05447072389317516\n",
            "\tAverage MSE error of KNN for test dataset: 0.12367006990885807\n",
            "\n",
            "K = 4:  \n",
            "\tAverage MSE error of KNN for train dataset: 0.05865869485371711\n",
            "\tAverage MSE error of KNN for test dataset: 0.12093609179363825\n",
            "\n",
            "K = 5:  \n",
            "\tAverage MSE error of KNN for train dataset: 0.06229281922886968\n",
            "\tAverage MSE error of KNN for test dataset: 0.11921237854289532\n",
            "\n",
            "K = 6:  \n",
            "\tAverage MSE error of KNN for train dataset: 0.06498241328397392\n",
            "\tAverage MSE error of KNN for test dataset: 0.11809925742133175\n",
            "\n",
            "K = 7:  \n",
            "\tAverage MSE error of KNN for train dataset: 0.06710075040386124\n",
            "\tAverage MSE error of KNN for test dataset: 0.11733734813685405\n",
            "\n",
            "K = 8:  \n",
            "\tAverage MSE error of KNN for train dataset: 0.06887830075331493\n",
            "\tAverage MSE error of KNN for test dataset: 0.11667620318723458\n",
            "\n",
            "K = 9:  \n",
            "\tAverage MSE error of KNN for train dataset: 0.07041575131426951\n",
            "\tAverage MSE error of KNN for test dataset: 0.11612938715279372\n",
            "\n",
            "K = 10:  \n",
            "\tAverage MSE error of KNN for train dataset: 0.07186345655948762\n",
            "\tAverage MSE error of KNN for test dataset: 0.11570524283038706\n",
            "\n",
            "K = 11:  \n",
            "\tAverage MSE error of KNN for train dataset: 0.07313434748502418\n",
            "\tAverage MSE error of KNN for test dataset: 0.11542363057111533\n",
            "\n",
            "K = 12:  \n",
            "\tAverage MSE error of KNN for train dataset: 0.07440840999737318\n",
            "\tAverage MSE error of KNN for test dataset: 0.11522706443982289\n",
            "\n",
            "K = 13:  \n",
            "\tAverage MSE error of KNN for train dataset: 0.0757023244853938\n",
            "\tAverage MSE error of KNN for test dataset: 0.11527654103959582\n",
            "\n",
            "K = 14:  \n",
            "\tAverage MSE error of KNN for train dataset: 0.07713048553020185\n",
            "\tAverage MSE error of KNN for test dataset: 0.11541899501839427\n",
            "\n",
            "K = 15:  \n",
            "\tAverage MSE error of KNN for train dataset: 0.07854836430478422\n",
            "\tAverage MSE error of KNN for test dataset: 0.11568280890914208\n",
            "\n",
            "K = 16:  \n",
            "\tAverage MSE error of KNN for train dataset: 0.08000390896155246\n",
            "\tAverage MSE error of KNN for test dataset: 0.11608599950234239\n",
            "\n",
            "K = 17:  \n",
            "\tAverage MSE error of KNN for train dataset: 0.0814654429845411\n",
            "\tAverage MSE error of KNN for test dataset: 0.11661735212295177\n",
            "\n",
            "K = 18:  \n",
            "\tAverage MSE error of KNN for train dataset: 0.08303790052332469\n",
            "\tAverage MSE error of KNN for test dataset: 0.11726773638644418\n",
            "\n",
            "K = 19:  \n",
            "\tAverage MSE error of KNN for train dataset: 0.08474313286369269\n",
            "\tAverage MSE error of KNN for test dataset: 0.11811750719242586\n",
            "\n"
          ]
        }
      ]
    },
    {
      "cell_type": "markdown",
      "metadata": {
        "deletable": false,
        "editable": false,
        "hidden": true,
        "run_control": {
          "frozen": true
        },
        "id": "kOaEGRxsPBue"
      },
      "source": [
        "To find best K for this algorithm we suggest to use cross-validation.\n",
        "<br><br/>\n",
        "Did this model perform well (due to the plot and test accuracy)?"
      ]
    },
    {
      "cell_type": "markdown",
      "metadata": {
        "hidden": true,
        "id": "9AkAFLLMPBue"
      },
      "source": [
        "-write here-\n",
        "\n",
        "According to the result of last cell, K = 12 is the best one which in this case the test error is minimum in avarage.\n",
        "\n",
        "Yes, the performance of the model is acceptable."
      ]
    }
  ],
  "metadata": {
    "kernelspec": {
      "display_name": "Python 3.7.4 64-bit",
      "language": "python",
      "name": "python3"
    },
    "language_info": {
      "codemirror_mode": {
        "name": "ipython",
        "version": 3
      },
      "file_extension": ".py",
      "mimetype": "text/x-python",
      "name": "python",
      "nbconvert_exporter": "python",
      "pygments_lexer": "ipython3",
      "version": "3.7.4"
    },
    "toc": {
      "base_numbering": 1,
      "nav_menu": {},
      "number_sections": true,
      "sideBar": true,
      "skip_h1_title": false,
      "title_cell": "Table of Contents",
      "title_sidebar": "Contents",
      "toc_cell": false,
      "toc_position": {},
      "toc_section_display": true,
      "toc_window_display": false
    },
    "varInspector": {
      "cols": {
        "lenName": 16,
        "lenType": 16,
        "lenVar": 40
      },
      "kernels_config": {
        "python": {
          "delete_cmd_postfix": "",
          "delete_cmd_prefix": "del ",
          "library": "var_list.py",
          "varRefreshCmd": "print(var_dic_list())"
        },
        "r": {
          "delete_cmd_postfix": ") ",
          "delete_cmd_prefix": "rm(",
          "library": "var_list.r",
          "varRefreshCmd": "cat(var_dic_list()) "
        }
      },
      "types_to_exclude": [
        "module",
        "function",
        "builtin_function_or_method",
        "instance",
        "_Feature"
      ],
      "window_display": false
    },
    "vscode": {
      "interpreter": {
        "hash": "aee8b7b246df8f9039afb4144a1f6fd8d2ca17a180786b69acc140d282b71a49"
      }
    },
    "colab": {
      "provenance": [],
      "collapsed_sections": []
    }
  },
  "nbformat": 4,
  "nbformat_minor": 0
}
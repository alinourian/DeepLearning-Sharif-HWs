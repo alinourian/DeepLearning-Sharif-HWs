{
  "nbformat": 4,
  "nbformat_minor": 0,
  "metadata": {
    "colab": {
      "provenance": [],
      "collapsed_sections": [
        "nhU2x-SzdDcp",
        "k66H3Lv1kMLC",
        "NoY4fWZfdIfi",
        "7nYC2j_OkcPi",
        "4D8C0LxTkpou"
      ],
      "toc_visible": true
    },
    "kernelspec": {
      "name": "python3",
      "display_name": "Python 3"
    },
    "language_info": {
      "name": "python"
    },
    "accelerator": "GPU",
    "gpuClass": "premium",
    "widgets": {
      "application/vnd.jupyter.widget-state+json": {
        "da28f5130dee4410af688e4b0a0f105e": {
          "model_module": "@jupyter-widgets/controls",
          "model_name": "HBoxModel",
          "model_module_version": "1.5.0",
          "state": {
            "_dom_classes": [],
            "_model_module": "@jupyter-widgets/controls",
            "_model_module_version": "1.5.0",
            "_model_name": "HBoxModel",
            "_view_count": null,
            "_view_module": "@jupyter-widgets/controls",
            "_view_module_version": "1.5.0",
            "_view_name": "HBoxView",
            "box_style": "",
            "children": [
              "IPY_MODEL_7e0ab06558104799aafb3f7540adafb9",
              "IPY_MODEL_e2f0555b77fb46c5a42fa36f5a93e756",
              "IPY_MODEL_baacbbaecd464aa481e5b952b465254a"
            ],
            "layout": "IPY_MODEL_88d7761489b84ccea8a47e01c49b70f9"
          }
        },
        "7e0ab06558104799aafb3f7540adafb9": {
          "model_module": "@jupyter-widgets/controls",
          "model_name": "HTMLModel",
          "model_module_version": "1.5.0",
          "state": {
            "_dom_classes": [],
            "_model_module": "@jupyter-widgets/controls",
            "_model_module_version": "1.5.0",
            "_model_name": "HTMLModel",
            "_view_count": null,
            "_view_module": "@jupyter-widgets/controls",
            "_view_module_version": "1.5.0",
            "_view_name": "HTMLView",
            "description": "",
            "description_tooltip": null,
            "layout": "IPY_MODEL_ac543d7d5e5749379b5c105ce25745f3",
            "placeholder": "​",
            "style": "IPY_MODEL_dd55afa20afe4637a979f0f1f99eb087",
            "value": "100%"
          }
        },
        "e2f0555b77fb46c5a42fa36f5a93e756": {
          "model_module": "@jupyter-widgets/controls",
          "model_name": "FloatProgressModel",
          "model_module_version": "1.5.0",
          "state": {
            "_dom_classes": [],
            "_model_module": "@jupyter-widgets/controls",
            "_model_module_version": "1.5.0",
            "_model_name": "FloatProgressModel",
            "_view_count": null,
            "_view_module": "@jupyter-widgets/controls",
            "_view_module_version": "1.5.0",
            "_view_name": "ProgressView",
            "bar_style": "success",
            "description": "",
            "description_tooltip": null,
            "layout": "IPY_MODEL_58714bacfc984ac7ad6dc0232cf5432b",
            "max": 170498071,
            "min": 0,
            "orientation": "horizontal",
            "style": "IPY_MODEL_9e9b884fc06a4ede8899c78c6a93ff4a",
            "value": 170498071
          }
        },
        "baacbbaecd464aa481e5b952b465254a": {
          "model_module": "@jupyter-widgets/controls",
          "model_name": "HTMLModel",
          "model_module_version": "1.5.0",
          "state": {
            "_dom_classes": [],
            "_model_module": "@jupyter-widgets/controls",
            "_model_module_version": "1.5.0",
            "_model_name": "HTMLModel",
            "_view_count": null,
            "_view_module": "@jupyter-widgets/controls",
            "_view_module_version": "1.5.0",
            "_view_name": "HTMLView",
            "description": "",
            "description_tooltip": null,
            "layout": "IPY_MODEL_c269b19c67e2404d80437a1c7efa0155",
            "placeholder": "​",
            "style": "IPY_MODEL_a6c2a3cc843846acbd4a83df7e30c2bc",
            "value": " 170498071/170498071 [00:01&lt;00:00, 74438934.14it/s]"
          }
        },
        "88d7761489b84ccea8a47e01c49b70f9": {
          "model_module": "@jupyter-widgets/base",
          "model_name": "LayoutModel",
          "model_module_version": "1.2.0",
          "state": {
            "_model_module": "@jupyter-widgets/base",
            "_model_module_version": "1.2.0",
            "_model_name": "LayoutModel",
            "_view_count": null,
            "_view_module": "@jupyter-widgets/base",
            "_view_module_version": "1.2.0",
            "_view_name": "LayoutView",
            "align_content": null,
            "align_items": null,
            "align_self": null,
            "border": null,
            "bottom": null,
            "display": null,
            "flex": null,
            "flex_flow": null,
            "grid_area": null,
            "grid_auto_columns": null,
            "grid_auto_flow": null,
            "grid_auto_rows": null,
            "grid_column": null,
            "grid_gap": null,
            "grid_row": null,
            "grid_template_areas": null,
            "grid_template_columns": null,
            "grid_template_rows": null,
            "height": null,
            "justify_content": null,
            "justify_items": null,
            "left": null,
            "margin": null,
            "max_height": null,
            "max_width": null,
            "min_height": null,
            "min_width": null,
            "object_fit": null,
            "object_position": null,
            "order": null,
            "overflow": null,
            "overflow_x": null,
            "overflow_y": null,
            "padding": null,
            "right": null,
            "top": null,
            "visibility": null,
            "width": null
          }
        },
        "ac543d7d5e5749379b5c105ce25745f3": {
          "model_module": "@jupyter-widgets/base",
          "model_name": "LayoutModel",
          "model_module_version": "1.2.0",
          "state": {
            "_model_module": "@jupyter-widgets/base",
            "_model_module_version": "1.2.0",
            "_model_name": "LayoutModel",
            "_view_count": null,
            "_view_module": "@jupyter-widgets/base",
            "_view_module_version": "1.2.0",
            "_view_name": "LayoutView",
            "align_content": null,
            "align_items": null,
            "align_self": null,
            "border": null,
            "bottom": null,
            "display": null,
            "flex": null,
            "flex_flow": null,
            "grid_area": null,
            "grid_auto_columns": null,
            "grid_auto_flow": null,
            "grid_auto_rows": null,
            "grid_column": null,
            "grid_gap": null,
            "grid_row": null,
            "grid_template_areas": null,
            "grid_template_columns": null,
            "grid_template_rows": null,
            "height": null,
            "justify_content": null,
            "justify_items": null,
            "left": null,
            "margin": null,
            "max_height": null,
            "max_width": null,
            "min_height": null,
            "min_width": null,
            "object_fit": null,
            "object_position": null,
            "order": null,
            "overflow": null,
            "overflow_x": null,
            "overflow_y": null,
            "padding": null,
            "right": null,
            "top": null,
            "visibility": null,
            "width": null
          }
        },
        "dd55afa20afe4637a979f0f1f99eb087": {
          "model_module": "@jupyter-widgets/controls",
          "model_name": "DescriptionStyleModel",
          "model_module_version": "1.5.0",
          "state": {
            "_model_module": "@jupyter-widgets/controls",
            "_model_module_version": "1.5.0",
            "_model_name": "DescriptionStyleModel",
            "_view_count": null,
            "_view_module": "@jupyter-widgets/base",
            "_view_module_version": "1.2.0",
            "_view_name": "StyleView",
            "description_width": ""
          }
        },
        "58714bacfc984ac7ad6dc0232cf5432b": {
          "model_module": "@jupyter-widgets/base",
          "model_name": "LayoutModel",
          "model_module_version": "1.2.0",
          "state": {
            "_model_module": "@jupyter-widgets/base",
            "_model_module_version": "1.2.0",
            "_model_name": "LayoutModel",
            "_view_count": null,
            "_view_module": "@jupyter-widgets/base",
            "_view_module_version": "1.2.0",
            "_view_name": "LayoutView",
            "align_content": null,
            "align_items": null,
            "align_self": null,
            "border": null,
            "bottom": null,
            "display": null,
            "flex": null,
            "flex_flow": null,
            "grid_area": null,
            "grid_auto_columns": null,
            "grid_auto_flow": null,
            "grid_auto_rows": null,
            "grid_column": null,
            "grid_gap": null,
            "grid_row": null,
            "grid_template_areas": null,
            "grid_template_columns": null,
            "grid_template_rows": null,
            "height": null,
            "justify_content": null,
            "justify_items": null,
            "left": null,
            "margin": null,
            "max_height": null,
            "max_width": null,
            "min_height": null,
            "min_width": null,
            "object_fit": null,
            "object_position": null,
            "order": null,
            "overflow": null,
            "overflow_x": null,
            "overflow_y": null,
            "padding": null,
            "right": null,
            "top": null,
            "visibility": null,
            "width": null
          }
        },
        "9e9b884fc06a4ede8899c78c6a93ff4a": {
          "model_module": "@jupyter-widgets/controls",
          "model_name": "ProgressStyleModel",
          "model_module_version": "1.5.0",
          "state": {
            "_model_module": "@jupyter-widgets/controls",
            "_model_module_version": "1.5.0",
            "_model_name": "ProgressStyleModel",
            "_view_count": null,
            "_view_module": "@jupyter-widgets/base",
            "_view_module_version": "1.2.0",
            "_view_name": "StyleView",
            "bar_color": null,
            "description_width": ""
          }
        },
        "c269b19c67e2404d80437a1c7efa0155": {
          "model_module": "@jupyter-widgets/base",
          "model_name": "LayoutModel",
          "model_module_version": "1.2.0",
          "state": {
            "_model_module": "@jupyter-widgets/base",
            "_model_module_version": "1.2.0",
            "_model_name": "LayoutModel",
            "_view_count": null,
            "_view_module": "@jupyter-widgets/base",
            "_view_module_version": "1.2.0",
            "_view_name": "LayoutView",
            "align_content": null,
            "align_items": null,
            "align_self": null,
            "border": null,
            "bottom": null,
            "display": null,
            "flex": null,
            "flex_flow": null,
            "grid_area": null,
            "grid_auto_columns": null,
            "grid_auto_flow": null,
            "grid_auto_rows": null,
            "grid_column": null,
            "grid_gap": null,
            "grid_row": null,
            "grid_template_areas": null,
            "grid_template_columns": null,
            "grid_template_rows": null,
            "height": null,
            "justify_content": null,
            "justify_items": null,
            "left": null,
            "margin": null,
            "max_height": null,
            "max_width": null,
            "min_height": null,
            "min_width": null,
            "object_fit": null,
            "object_position": null,
            "order": null,
            "overflow": null,
            "overflow_x": null,
            "overflow_y": null,
            "padding": null,
            "right": null,
            "top": null,
            "visibility": null,
            "width": null
          }
        },
        "a6c2a3cc843846acbd4a83df7e30c2bc": {
          "model_module": "@jupyter-widgets/controls",
          "model_name": "DescriptionStyleModel",
          "model_module_version": "1.5.0",
          "state": {
            "_model_module": "@jupyter-widgets/controls",
            "_model_module_version": "1.5.0",
            "_model_name": "DescriptionStyleModel",
            "_view_count": null,
            "_view_module": "@jupyter-widgets/base",
            "_view_module_version": "1.2.0",
            "_view_name": "StyleView",
            "description_width": ""
          }
        },
        "2094f9f52f424322b3b501862c665e66": {
          "model_module": "@jupyter-widgets/controls",
          "model_name": "HBoxModel",
          "model_module_version": "1.5.0",
          "state": {
            "_dom_classes": [],
            "_model_module": "@jupyter-widgets/controls",
            "_model_module_version": "1.5.0",
            "_model_name": "HBoxModel",
            "_view_count": null,
            "_view_module": "@jupyter-widgets/controls",
            "_view_module_version": "1.5.0",
            "_view_name": "HBoxView",
            "box_style": "",
            "children": [
              "IPY_MODEL_90964f501e0846f38a7ad1218b8440f4",
              "IPY_MODEL_393482cd0d7644808eb5eca291d6e338",
              "IPY_MODEL_c4af31aa87da45ebb3c815c2ad774e70"
            ],
            "layout": "IPY_MODEL_a75840f3541f4193914c4b6aa85154de"
          }
        },
        "90964f501e0846f38a7ad1218b8440f4": {
          "model_module": "@jupyter-widgets/controls",
          "model_name": "HTMLModel",
          "model_module_version": "1.5.0",
          "state": {
            "_dom_classes": [],
            "_model_module": "@jupyter-widgets/controls",
            "_model_module_version": "1.5.0",
            "_model_name": "HTMLModel",
            "_view_count": null,
            "_view_module": "@jupyter-widgets/controls",
            "_view_module_version": "1.5.0",
            "_view_name": "HTMLView",
            "description": "",
            "description_tooltip": null,
            "layout": "IPY_MODEL_bd14d9169f78491381140c373f09465e",
            "placeholder": "​",
            "style": "IPY_MODEL_bf21a181464148c1b2b1e13a5fb5c177",
            "value": "100%"
          }
        },
        "393482cd0d7644808eb5eca291d6e338": {
          "model_module": "@jupyter-widgets/controls",
          "model_name": "FloatProgressModel",
          "model_module_version": "1.5.0",
          "state": {
            "_dom_classes": [],
            "_model_module": "@jupyter-widgets/controls",
            "_model_module_version": "1.5.0",
            "_model_name": "FloatProgressModel",
            "_view_count": null,
            "_view_module": "@jupyter-widgets/controls",
            "_view_module_version": "1.5.0",
            "_view_name": "ProgressView",
            "bar_style": "success",
            "description": "",
            "description_tooltip": null,
            "layout": "IPY_MODEL_28d7b2ee2903404abbbed309e0d3223c",
            "max": 102540417,
            "min": 0,
            "orientation": "horizontal",
            "style": "IPY_MODEL_5d979a560724471cb80bc8088c6b9c66",
            "value": 102540417
          }
        },
        "c4af31aa87da45ebb3c815c2ad774e70": {
          "model_module": "@jupyter-widgets/controls",
          "model_name": "HTMLModel",
          "model_module_version": "1.5.0",
          "state": {
            "_dom_classes": [],
            "_model_module": "@jupyter-widgets/controls",
            "_model_module_version": "1.5.0",
            "_model_name": "HTMLModel",
            "_view_count": null,
            "_view_module": "@jupyter-widgets/controls",
            "_view_module_version": "1.5.0",
            "_view_name": "HTMLView",
            "description": "",
            "description_tooltip": null,
            "layout": "IPY_MODEL_4a7e3d3df791447c839ff3d91d173610",
            "placeholder": "​",
            "style": "IPY_MODEL_ab45b34e78a346fa8970e184e33c8ba9",
            "value": " 97.8M/97.8M [00:00&lt;00:00, 231MB/s]"
          }
        },
        "a75840f3541f4193914c4b6aa85154de": {
          "model_module": "@jupyter-widgets/base",
          "model_name": "LayoutModel",
          "model_module_version": "1.2.0",
          "state": {
            "_model_module": "@jupyter-widgets/base",
            "_model_module_version": "1.2.0",
            "_model_name": "LayoutModel",
            "_view_count": null,
            "_view_module": "@jupyter-widgets/base",
            "_view_module_version": "1.2.0",
            "_view_name": "LayoutView",
            "align_content": null,
            "align_items": null,
            "align_self": null,
            "border": null,
            "bottom": null,
            "display": null,
            "flex": null,
            "flex_flow": null,
            "grid_area": null,
            "grid_auto_columns": null,
            "grid_auto_flow": null,
            "grid_auto_rows": null,
            "grid_column": null,
            "grid_gap": null,
            "grid_row": null,
            "grid_template_areas": null,
            "grid_template_columns": null,
            "grid_template_rows": null,
            "height": null,
            "justify_content": null,
            "justify_items": null,
            "left": null,
            "margin": null,
            "max_height": null,
            "max_width": null,
            "min_height": null,
            "min_width": null,
            "object_fit": null,
            "object_position": null,
            "order": null,
            "overflow": null,
            "overflow_x": null,
            "overflow_y": null,
            "padding": null,
            "right": null,
            "top": null,
            "visibility": null,
            "width": null
          }
        },
        "bd14d9169f78491381140c373f09465e": {
          "model_module": "@jupyter-widgets/base",
          "model_name": "LayoutModel",
          "model_module_version": "1.2.0",
          "state": {
            "_model_module": "@jupyter-widgets/base",
            "_model_module_version": "1.2.0",
            "_model_name": "LayoutModel",
            "_view_count": null,
            "_view_module": "@jupyter-widgets/base",
            "_view_module_version": "1.2.0",
            "_view_name": "LayoutView",
            "align_content": null,
            "align_items": null,
            "align_self": null,
            "border": null,
            "bottom": null,
            "display": null,
            "flex": null,
            "flex_flow": null,
            "grid_area": null,
            "grid_auto_columns": null,
            "grid_auto_flow": null,
            "grid_auto_rows": null,
            "grid_column": null,
            "grid_gap": null,
            "grid_row": null,
            "grid_template_areas": null,
            "grid_template_columns": null,
            "grid_template_rows": null,
            "height": null,
            "justify_content": null,
            "justify_items": null,
            "left": null,
            "margin": null,
            "max_height": null,
            "max_width": null,
            "min_height": null,
            "min_width": null,
            "object_fit": null,
            "object_position": null,
            "order": null,
            "overflow": null,
            "overflow_x": null,
            "overflow_y": null,
            "padding": null,
            "right": null,
            "top": null,
            "visibility": null,
            "width": null
          }
        },
        "bf21a181464148c1b2b1e13a5fb5c177": {
          "model_module": "@jupyter-widgets/controls",
          "model_name": "DescriptionStyleModel",
          "model_module_version": "1.5.0",
          "state": {
            "_model_module": "@jupyter-widgets/controls",
            "_model_module_version": "1.5.0",
            "_model_name": "DescriptionStyleModel",
            "_view_count": null,
            "_view_module": "@jupyter-widgets/base",
            "_view_module_version": "1.2.0",
            "_view_name": "StyleView",
            "description_width": ""
          }
        },
        "28d7b2ee2903404abbbed309e0d3223c": {
          "model_module": "@jupyter-widgets/base",
          "model_name": "LayoutModel",
          "model_module_version": "1.2.0",
          "state": {
            "_model_module": "@jupyter-widgets/base",
            "_model_module_version": "1.2.0",
            "_model_name": "LayoutModel",
            "_view_count": null,
            "_view_module": "@jupyter-widgets/base",
            "_view_module_version": "1.2.0",
            "_view_name": "LayoutView",
            "align_content": null,
            "align_items": null,
            "align_self": null,
            "border": null,
            "bottom": null,
            "display": null,
            "flex": null,
            "flex_flow": null,
            "grid_area": null,
            "grid_auto_columns": null,
            "grid_auto_flow": null,
            "grid_auto_rows": null,
            "grid_column": null,
            "grid_gap": null,
            "grid_row": null,
            "grid_template_areas": null,
            "grid_template_columns": null,
            "grid_template_rows": null,
            "height": null,
            "justify_content": null,
            "justify_items": null,
            "left": null,
            "margin": null,
            "max_height": null,
            "max_width": null,
            "min_height": null,
            "min_width": null,
            "object_fit": null,
            "object_position": null,
            "order": null,
            "overflow": null,
            "overflow_x": null,
            "overflow_y": null,
            "padding": null,
            "right": null,
            "top": null,
            "visibility": null,
            "width": null
          }
        },
        "5d979a560724471cb80bc8088c6b9c66": {
          "model_module": "@jupyter-widgets/controls",
          "model_name": "ProgressStyleModel",
          "model_module_version": "1.5.0",
          "state": {
            "_model_module": "@jupyter-widgets/controls",
            "_model_module_version": "1.5.0",
            "_model_name": "ProgressStyleModel",
            "_view_count": null,
            "_view_module": "@jupyter-widgets/base",
            "_view_module_version": "1.2.0",
            "_view_name": "StyleView",
            "bar_color": null,
            "description_width": ""
          }
        },
        "4a7e3d3df791447c839ff3d91d173610": {
          "model_module": "@jupyter-widgets/base",
          "model_name": "LayoutModel",
          "model_module_version": "1.2.0",
          "state": {
            "_model_module": "@jupyter-widgets/base",
            "_model_module_version": "1.2.0",
            "_model_name": "LayoutModel",
            "_view_count": null,
            "_view_module": "@jupyter-widgets/base",
            "_view_module_version": "1.2.0",
            "_view_name": "LayoutView",
            "align_content": null,
            "align_items": null,
            "align_self": null,
            "border": null,
            "bottom": null,
            "display": null,
            "flex": null,
            "flex_flow": null,
            "grid_area": null,
            "grid_auto_columns": null,
            "grid_auto_flow": null,
            "grid_auto_rows": null,
            "grid_column": null,
            "grid_gap": null,
            "grid_row": null,
            "grid_template_areas": null,
            "grid_template_columns": null,
            "grid_template_rows": null,
            "height": null,
            "justify_content": null,
            "justify_items": null,
            "left": null,
            "margin": null,
            "max_height": null,
            "max_width": null,
            "min_height": null,
            "min_width": null,
            "object_fit": null,
            "object_position": null,
            "order": null,
            "overflow": null,
            "overflow_x": null,
            "overflow_y": null,
            "padding": null,
            "right": null,
            "top": null,
            "visibility": null,
            "width": null
          }
        },
        "ab45b34e78a346fa8970e184e33c8ba9": {
          "model_module": "@jupyter-widgets/controls",
          "model_name": "DescriptionStyleModel",
          "model_module_version": "1.5.0",
          "state": {
            "_model_module": "@jupyter-widgets/controls",
            "_model_module_version": "1.5.0",
            "_model_name": "DescriptionStyleModel",
            "_view_count": null,
            "_view_module": "@jupyter-widgets/base",
            "_view_module_version": "1.2.0",
            "_view_name": "StyleView",
            "description_width": ""
          }
        }
      }
    }
  },
  "cells": [
    {
      "cell_type": "markdown",
      "source": [
        "# Initial Setups"
      ],
      "metadata": {
        "id": "KjUzpB4BkAqa"
      }
    },
    {
      "cell_type": "markdown",
      "source": [
        "## Import Libraries"
      ],
      "metadata": {
        "id": "nhU2x-SzdDcp"
      }
    },
    {
      "cell_type": "code",
      "source": [
        "import numpy as np\n",
        "import matplotlib.pyplot as plt\n",
        "import torch\n",
        "import torch.nn as nn\n",
        "import torch.nn.functional as F\n",
        "import torchvision\n",
        "import torchvision.transforms as transforms\n",
        "from torchvision.models import resnet18, resnet50, ResNet50_Weights\n",
        "from time import localtime\n",
        "from tqdm import tqdm"
      ],
      "metadata": {
        "id": "0Eabe0T5LLWX"
      },
      "execution_count": 3,
      "outputs": []
    },
    {
      "cell_type": "markdown",
      "source": [
        "## Device Configuration"
      ],
      "metadata": {
        "id": "k66H3Lv1kMLC"
      }
    },
    {
      "cell_type": "code",
      "source": [
        "device = torch.device('cuda' if torch.cuda.is_available() else 'cpu')\n",
        "device"
      ],
      "metadata": {
        "id": "XSc4ozXWfI5i",
        "colab": {
          "base_uri": "https://localhost:8080/"
        },
        "outputId": "715bb10d-f87c-43aa-c317-21f853b9b79e"
      },
      "execution_count": 28,
      "outputs": [
        {
          "output_type": "execute_result",
          "data": {
            "text/plain": [
              "device(type='cuda')"
            ]
          },
          "metadata": {},
          "execution_count": 28
        }
      ]
    },
    {
      "cell_type": "markdown",
      "source": [
        "## Import Dataset"
      ],
      "metadata": {
        "id": "NoY4fWZfdIfi"
      }
    },
    {
      "cell_type": "code",
      "source": [
        "weights = ResNet50_Weights.IMAGENET1K_V2\n",
        "transform = weights.transforms()\n",
        "\n",
        "batch_size = 128\n",
        "\n",
        "train_set = torchvision.datasets.CIFAR10(root='./data', train=True,\n",
        "                                        download=True, transform=transform)\n",
        "train_loader = torch.utils.data.DataLoader(train_set, batch_size=batch_size,\n",
        "                                          shuffle=True, num_workers=2)\n",
        "\n",
        "test_set = torchvision.datasets.CIFAR10(root='./data', train=False,\n",
        "                                       download=True, transform=transform)\n",
        "test_loader = torch.utils.data.DataLoader(test_set, batch_size=batch_size,\n",
        "                                         shuffle=False, num_workers=2)\n",
        "\n",
        "classes = ['plane', 'car', 'bird', 'cat', 'deer', 'dog', 'frog', 'horse', 'ship', 'truck']"
      ],
      "metadata": {
        "colab": {
          "base_uri": "https://localhost:8080/",
          "height": 103,
          "referenced_widgets": [
            "da28f5130dee4410af688e4b0a0f105e",
            "7e0ab06558104799aafb3f7540adafb9",
            "e2f0555b77fb46c5a42fa36f5a93e756",
            "baacbbaecd464aa481e5b952b465254a",
            "88d7761489b84ccea8a47e01c49b70f9",
            "ac543d7d5e5749379b5c105ce25745f3",
            "dd55afa20afe4637a979f0f1f99eb087",
            "58714bacfc984ac7ad6dc0232cf5432b",
            "9e9b884fc06a4ede8899c78c6a93ff4a",
            "c269b19c67e2404d80437a1c7efa0155",
            "a6c2a3cc843846acbd4a83df7e30c2bc"
          ]
        },
        "id": "uCQHE9B_NYZB",
        "outputId": "860640b7-27ff-4cb4-d01a-59f9ed4f4437"
      },
      "execution_count": 29,
      "outputs": [
        {
          "output_type": "stream",
          "name": "stdout",
          "text": [
            "Downloading https://www.cs.toronto.edu/~kriz/cifar-10-python.tar.gz to ./data/cifar-10-python.tar.gz\n"
          ]
        },
        {
          "output_type": "display_data",
          "data": {
            "text/plain": [
              "  0%|          | 0/170498071 [00:00<?, ?it/s]"
            ],
            "application/vnd.jupyter.widget-view+json": {
              "version_major": 2,
              "version_minor": 0,
              "model_id": "da28f5130dee4410af688e4b0a0f105e"
            }
          },
          "metadata": {}
        },
        {
          "output_type": "stream",
          "name": "stdout",
          "text": [
            "Extracting ./data/cifar-10-python.tar.gz to ./data\n",
            "Files already downloaded and verified\n"
          ]
        }
      ]
    },
    {
      "cell_type": "markdown",
      "source": [
        "## Training Functions"
      ],
      "metadata": {
        "id": "7nYC2j_OkcPi"
      }
    },
    {
      "cell_type": "code",
      "source": [
        "def train_epoch(net, criterion, optimizer, dataloader, teacher_model=None, params=None):\n",
        "  epoch_loss = 0\n",
        "  epoch_true = 0\n",
        "  epoch_all = 0\n",
        "  train_loss = 0\n",
        "  train_accuracy = 0\n",
        "  i = 0\n",
        "\n",
        "  net.train()\n",
        "  for i, (x, y) in enumerate(tqdm(dataloader)):\n",
        "    x = x.to(device)\n",
        "    y = y.to(device)\n",
        "    p = net(x)\n",
        "\n",
        "    if teacher_model is not None:\n",
        "        p_t = teacher_model(x)\n",
        "        loss = criterion(p, y, p_t, params)\n",
        "    else:\n",
        "        loss = criterion(p, y)\n",
        "    epoch_loss += float(loss)\n",
        "\n",
        "    predictions = p.argmax(-1)\n",
        "    epoch_all += len(predictions)\n",
        "    epoch_true += (predictions == y).sum()\n",
        "    \n",
        "    train_loss = epoch_loss / (i + 1)\n",
        "    train_accuracy = epoch_true / epoch_all\n",
        "\n",
        "    optimizer.zero_grad()\n",
        "    loss.backward()\n",
        "    optimizer.step()\n",
        "\n",
        "  return train_loss, train_accuracy\n",
        "\n",
        "\n",
        "def evaluate_epoch(net, criterion, dataloader, teacher_model=None, params=None):\n",
        "  epoch_loss = 0\n",
        "  epoch_true = 0\n",
        "  epoch_all = 0\n",
        "  eval_loss = 0\n",
        "  eval_accuracy = 0\n",
        "  i = 0\n",
        "\n",
        "  net.eval()\n",
        "  for i, (x, y) in enumerate(dataloader):\n",
        "    x = x.to(device)\n",
        "    y = y.to(device)\n",
        "    p = net(x)\n",
        "\n",
        "    if teacher_model is not None:\n",
        "        p_t = teacher_model(x)\n",
        "        loss = criterion(p, y, p_t, params)\n",
        "    else:\n",
        "        loss = criterion(p, y)\n",
        "    epoch_loss += float(loss)\n",
        "\n",
        "    predictions = p.argmax(-1)\n",
        "    epoch_all += len(predictions)\n",
        "    epoch_true += (predictions == y).sum()\n",
        "\n",
        "    eval_loss = epoch_loss / (i + 1)\n",
        "    eval_accuracy = epoch_true / epoch_all\n",
        "\n",
        "  return eval_loss, eval_accuracy\n",
        "\n",
        "\n",
        "def getTime():\n",
        "  loc_time = localtime()\n",
        "  hour, min, sec = loc_time.tm_hour, loc_time.tm_min, loc_time.tm_sec\n",
        "  return str(hour) + \":\" + str(min) + \":\" + str(sec)\n",
        "\n",
        "\n",
        "def train_model(net, n_epochs, criterion, optimizer, train_loader, val_loader=None, teacher_model=None, params=None):\n",
        "    train_losses = []\n",
        "    train_accuracies = []\n",
        "    val_losses = []\n",
        "    val_accuracies = []\n",
        "\n",
        "    for e in range(n_epochs):\n",
        "        if teacher_model is not None:\n",
        "            train_loss, train_accuracy = train_epoch(net, criterion, optimizer, train_loader, teacher_model, params)\n",
        "            if val_loader is not None:\n",
        "                val_loss, val_accuracy = evaluate_epoch(net, criterion, val_loader, teacher_model, params)\n",
        "        else:\n",
        "            train_loss, train_accuracy = train_epoch(net, criterion, optimizer, train_loader)\n",
        "            if val_loader is not None:\n",
        "                val_loss, val_accuracy = evaluate_epoch(net, criterion, val_loader)\n",
        "        \n",
        "\n",
        "        train_losses.append(train_loss)\n",
        "        train_accuracies.append(float(train_accuracy))\n",
        "        if val_loader is not None:\n",
        "            val_losses.append(val_loss)\n",
        "            val_accuracies.append(float(val_accuracy))\n",
        "\n",
        "        print(f'[Epoch {e+1}]\\t [{getTime()}]\\t', end=\"\")\n",
        "        print(f'Train Loss: {train_loss:.4f}\\tTrain Accuracy: {train_accuracy:.2f}\\t', end=\"\")\n",
        "        if val_loader is not None:\n",
        "            print(f'Validation Loss: {val_loss:.4f}\\t\\tValidation Accuracy: {val_accuracy:.2f}')\n",
        "        else:\n",
        "            print()\n",
        "    \n",
        "    return train_losses, train_accuracies, val_losses, val_accuracies"
      ],
      "metadata": {
        "id": "taknL1gakenF"
      },
      "execution_count": 30,
      "outputs": []
    },
    {
      "cell_type": "markdown",
      "source": [
        "# Part A"
      ],
      "metadata": {
        "id": "adD17R6qkh-r"
      }
    },
    {
      "cell_type": "markdown",
      "source": [
        "## Define Teacher Model"
      ],
      "metadata": {
        "id": "4D8C0LxTkpou"
      }
    },
    {
      "cell_type": "code",
      "source": [
        "resnet50_model = resnet50(weights=ResNet50_Weights.IMAGENET1K_V2).to(device)\n",
        "\n",
        "params = resnet50_model.parameters()\n",
        "for param in params:\n",
        "    param.requires_grad = False\n",
        "\n",
        "resnet50_model.fc = nn.Linear(in_features=2048, out_features=10, device=device)"
      ],
      "metadata": {
        "id": "B7qkbBc_knYO",
        "colab": {
          "base_uri": "https://localhost:8080/",
          "height": 67,
          "referenced_widgets": [
            "2094f9f52f424322b3b501862c665e66",
            "90964f501e0846f38a7ad1218b8440f4",
            "393482cd0d7644808eb5eca291d6e338",
            "c4af31aa87da45ebb3c815c2ad774e70",
            "a75840f3541f4193914c4b6aa85154de",
            "bd14d9169f78491381140c373f09465e",
            "bf21a181464148c1b2b1e13a5fb5c177",
            "28d7b2ee2903404abbbed309e0d3223c",
            "5d979a560724471cb80bc8088c6b9c66",
            "4a7e3d3df791447c839ff3d91d173610",
            "ab45b34e78a346fa8970e184e33c8ba9"
          ]
        },
        "outputId": "3d4b6f14-501a-4df6-8c37-45cc824a49e6"
      },
      "execution_count": 5,
      "outputs": [
        {
          "output_type": "stream",
          "name": "stderr",
          "text": [
            "Downloading: \"https://download.pytorch.org/models/resnet50-11ad3fa6.pth\" to /root/.cache/torch/hub/checkpoints/resnet50-11ad3fa6.pth\n"
          ]
        },
        {
          "output_type": "display_data",
          "data": {
            "text/plain": [
              "  0%|          | 0.00/97.8M [00:00<?, ?B/s]"
            ],
            "application/vnd.jupyter.widget-view+json": {
              "version_major": 2,
              "version_minor": 0,
              "model_id": "2094f9f52f424322b3b501862c665e66"
            }
          },
          "metadata": {}
        }
      ]
    },
    {
      "cell_type": "markdown",
      "source": [
        "## Linear Tuning"
      ],
      "metadata": {
        "id": "vlmmIT0UkruC"
      }
    },
    {
      "cell_type": "code",
      "source": [
        "cross_entropy_criterion = nn.CrossEntropyLoss()\n",
        "resnet50_optimizer = torch.optim.SGD(resnet50_model.fc.parameters(), lr=0.001, momentum=0.9)\n",
        "\n",
        "train_loss, train_acc, test_loss, test_acc = train_model(\n",
        "    resnet50_model, 20, cross_entropy_criterion, resnet50_optimizer, train_loader, test_loader\n",
        ")"
      ],
      "metadata": {
        "colab": {
          "base_uri": "https://localhost:8080/"
        },
        "id": "LqyVMHIqko_k",
        "outputId": "35d63e80-c4d7-4543-a07f-37a58d4e4f1d"
      },
      "execution_count": 8,
      "outputs": [
        {
          "output_type": "stream",
          "name": "stderr",
          "text": [
            "100%|██████████| 391/391 [02:51<00:00,  2.28it/s]\n"
          ]
        },
        {
          "output_type": "stream",
          "name": "stdout",
          "text": [
            "[Epoch 1]\t [11:58:13]\tTrain Loss: 1.6061\tTrain Accuracy: 0.60\tValidation Loss: 1.2085\t\tValidation Accuracy: 0.70\n"
          ]
        },
        {
          "output_type": "stream",
          "name": "stderr",
          "text": [
            "100%|██████████| 391/391 [02:51<00:00,  2.28it/s]\n"
          ]
        },
        {
          "output_type": "stream",
          "name": "stdout",
          "text": [
            "[Epoch 2]\t [12:1:37]\tTrain Loss: 1.0873\tTrain Accuracy: 0.71\tValidation Loss: 0.9850\t\tValidation Accuracy: 0.72\n"
          ]
        },
        {
          "output_type": "stream",
          "name": "stderr",
          "text": [
            "100%|██████████| 391/391 [02:52<00:00,  2.27it/s]\n"
          ]
        },
        {
          "output_type": "stream",
          "name": "stdout",
          "text": [
            "[Epoch 3]\t [12:5:2]\tTrain Loss: 0.9398\tTrain Accuracy: 0.73\tValidation Loss: 0.8941\t\tValidation Accuracy: 0.73\n"
          ]
        },
        {
          "output_type": "stream",
          "name": "stderr",
          "text": [
            "100%|██████████| 391/391 [02:52<00:00,  2.27it/s]\n"
          ]
        },
        {
          "output_type": "stream",
          "name": "stdout",
          "text": [
            "[Epoch 4]\t [12:8:27]\tTrain Loss: 0.8669\tTrain Accuracy: 0.74\tValidation Loss: 0.8387\t\tValidation Accuracy: 0.74\n"
          ]
        },
        {
          "output_type": "stream",
          "name": "stderr",
          "text": [
            "100%|██████████| 391/391 [02:52<00:00,  2.26it/s]\n"
          ]
        },
        {
          "output_type": "stream",
          "name": "stdout",
          "text": [
            "[Epoch 5]\t [12:11:52]\tTrain Loss: 0.8209\tTrain Accuracy: 0.75\tValidation Loss: 0.8020\t\tValidation Accuracy: 0.75\n"
          ]
        },
        {
          "output_type": "stream",
          "name": "stderr",
          "text": [
            "100%|██████████| 391/391 [02:52<00:00,  2.26it/s]\n"
          ]
        },
        {
          "output_type": "stream",
          "name": "stdout",
          "text": [
            "[Epoch 6]\t [12:15:16]\tTrain Loss: 0.7870\tTrain Accuracy: 0.75\tValidation Loss: 0.7770\t\tValidation Accuracy: 0.75\n"
          ]
        },
        {
          "output_type": "stream",
          "name": "stderr",
          "text": [
            "100%|██████████| 391/391 [02:52<00:00,  2.26it/s]\n"
          ]
        },
        {
          "output_type": "stream",
          "name": "stdout",
          "text": [
            "[Epoch 7]\t [12:18:42]\tTrain Loss: 0.7605\tTrain Accuracy: 0.76\tValidation Loss: 0.7551\t\tValidation Accuracy: 0.76\n"
          ]
        },
        {
          "output_type": "stream",
          "name": "stderr",
          "text": [
            "100%|██████████| 391/391 [02:51<00:00,  2.27it/s]\n"
          ]
        },
        {
          "output_type": "stream",
          "name": "stdout",
          "text": [
            "[Epoch 8]\t [12:22:7]\tTrain Loss: 0.7412\tTrain Accuracy: 0.76\tValidation Loss: 0.7390\t\tValidation Accuracy: 0.76\n"
          ]
        },
        {
          "output_type": "stream",
          "name": "stderr",
          "text": [
            "100%|██████████| 391/391 [02:53<00:00,  2.26it/s]\n"
          ]
        },
        {
          "output_type": "stream",
          "name": "stdout",
          "text": [
            "[Epoch 9]\t [12:25:32]\tTrain Loss: 0.7266\tTrain Accuracy: 0.77\tValidation Loss: 0.7262\t\tValidation Accuracy: 0.76\n"
          ]
        },
        {
          "output_type": "stream",
          "name": "stderr",
          "text": [
            "100%|██████████| 391/391 [02:53<00:00,  2.26it/s]\n"
          ]
        },
        {
          "output_type": "stream",
          "name": "stdout",
          "text": [
            "[Epoch 10]\t [12:28:58]\tTrain Loss: 0.7110\tTrain Accuracy: 0.77\tValidation Loss: 0.7132\t\tValidation Accuracy: 0.77\n"
          ]
        },
        {
          "output_type": "stream",
          "name": "stderr",
          "text": [
            "100%|██████████| 391/391 [02:52<00:00,  2.27it/s]\n"
          ]
        },
        {
          "output_type": "stream",
          "name": "stdout",
          "text": [
            "[Epoch 11]\t [12:32:23]\tTrain Loss: 0.7005\tTrain Accuracy: 0.77\tValidation Loss: 0.7034\t\tValidation Accuracy: 0.77\n"
          ]
        },
        {
          "output_type": "stream",
          "name": "stderr",
          "text": [
            "100%|██████████| 391/391 [02:51<00:00,  2.28it/s]\n"
          ]
        },
        {
          "output_type": "stream",
          "name": "stdout",
          "text": [
            "[Epoch 12]\t [12:35:47]\tTrain Loss: 0.6889\tTrain Accuracy: 0.78\tValidation Loss: 0.6914\t\tValidation Accuracy: 0.77\n"
          ]
        },
        {
          "output_type": "stream",
          "name": "stderr",
          "text": [
            "100%|██████████| 391/391 [02:51<00:00,  2.29it/s]\n"
          ]
        },
        {
          "output_type": "stream",
          "name": "stdout",
          "text": [
            "[Epoch 13]\t [12:39:10]\tTrain Loss: 0.6803\tTrain Accuracy: 0.78\tValidation Loss: 0.6874\t\tValidation Accuracy: 0.77\n"
          ]
        },
        {
          "output_type": "stream",
          "name": "stderr",
          "text": [
            "100%|██████████| 391/391 [02:52<00:00,  2.27it/s]\n"
          ]
        },
        {
          "output_type": "stream",
          "name": "stdout",
          "text": [
            "[Epoch 14]\t [12:42:35]\tTrain Loss: 0.6726\tTrain Accuracy: 0.78\tValidation Loss: 0.6811\t\tValidation Accuracy: 0.77\n"
          ]
        },
        {
          "output_type": "stream",
          "name": "stderr",
          "text": [
            "100%|██████████| 391/391 [02:51<00:00,  2.28it/s]\n"
          ]
        },
        {
          "output_type": "stream",
          "name": "stdout",
          "text": [
            "[Epoch 15]\t [12:45:59]\tTrain Loss: 0.6627\tTrain Accuracy: 0.78\tValidation Loss: 0.6760\t\tValidation Accuracy: 0.77\n"
          ]
        },
        {
          "output_type": "stream",
          "name": "stderr",
          "text": [
            "100%|██████████| 391/391 [02:52<00:00,  2.27it/s]\n"
          ]
        },
        {
          "output_type": "stream",
          "name": "stdout",
          "text": [
            "[Epoch 16]\t [12:49:24]\tTrain Loss: 0.6548\tTrain Accuracy: 0.79\tValidation Loss: 0.6658\t\tValidation Accuracy: 0.78\n"
          ]
        },
        {
          "output_type": "stream",
          "name": "stderr",
          "text": [
            "100%|██████████| 391/391 [02:51<00:00,  2.27it/s]\n"
          ]
        },
        {
          "output_type": "stream",
          "name": "stdout",
          "text": [
            "[Epoch 17]\t [12:52:49]\tTrain Loss: 0.6494\tTrain Accuracy: 0.79\tValidation Loss: 0.6593\t\tValidation Accuracy: 0.78\n"
          ]
        },
        {
          "output_type": "stream",
          "name": "stderr",
          "text": [
            "100%|██████████| 391/391 [02:51<00:00,  2.28it/s]\n"
          ]
        },
        {
          "output_type": "stream",
          "name": "stdout",
          "text": [
            "[Epoch 18]\t [12:56:12]\tTrain Loss: 0.6416\tTrain Accuracy: 0.79\tValidation Loss: 0.6575\t\tValidation Accuracy: 0.78\n"
          ]
        },
        {
          "output_type": "stream",
          "name": "stderr",
          "text": [
            "100%|██████████| 391/391 [02:52<00:00,  2.27it/s]\n"
          ]
        },
        {
          "output_type": "stream",
          "name": "stdout",
          "text": [
            "[Epoch 19]\t [12:59:37]\tTrain Loss: 0.6354\tTrain Accuracy: 0.79\tValidation Loss: 0.6543\t\tValidation Accuracy: 0.78\n"
          ]
        },
        {
          "output_type": "stream",
          "name": "stderr",
          "text": [
            "100%|██████████| 391/391 [02:51<00:00,  2.28it/s]\n"
          ]
        },
        {
          "output_type": "stream",
          "name": "stdout",
          "text": [
            "[Epoch 20]\t [13:3:0]\tTrain Loss: 0.6329\tTrain Accuracy: 0.79\tValidation Loss: 0.6487\t\tValidation Accuracy: 0.78\n"
          ]
        }
      ]
    },
    {
      "cell_type": "code",
      "source": [
        "torch.save(resnet50_model, 'best_resnet50.pt')"
      ],
      "metadata": {
        "id": "tnuzQqQQcg_J"
      },
      "execution_count": null,
      "outputs": []
    },
    {
      "cell_type": "markdown",
      "source": [
        "## Accuracy & Loss plots"
      ],
      "metadata": {
        "id": "vMKmjQz9k0v1"
      }
    },
    {
      "cell_type": "code",
      "source": [
        "fig, axes = plt.subplots(1, 2, figsize=(15, 5))\n",
        "\n",
        "axis = axes[0]\n",
        "axis.plot(train_loss)\n",
        "axis.plot(test_loss)\n",
        "axis.set_title('Loss plot')\n",
        "axis.legend(['Train Loss', 'Test Loss'])\n",
        "\n",
        "axis = axes[1]\n",
        "axis.plot(train_acc)\n",
        "axis.plot(test_acc)\n",
        "axis.set_title('Accuracy plot')\n",
        "axis.legend(['Train Accuracy', 'Test Accuracy'])"
      ],
      "metadata": {
        "id": "TkgIS3Sfkz_g",
        "colab": {
          "base_uri": "https://localhost:8080/",
          "height": 354
        },
        "outputId": "29de9ee9-baab-4d30-c3c8-83bbd5208700"
      },
      "execution_count": 9,
      "outputs": [
        {
          "output_type": "execute_result",
          "data": {
            "text/plain": [
              "<matplotlib.legend.Legend at 0x7f21940bf370>"
            ]
          },
          "metadata": {},
          "execution_count": 9
        },
        {
          "output_type": "display_data",
          "data": {
            "text/plain": [
              "<Figure size 1080x360 with 2 Axes>"
            ],
            "image/png": "[encoded data removed]"
          },
          "metadata": {
            "needs_background": "light"
          }
        }
      ]
    },
    {
      "cell_type": "markdown",
      "source": [
        "# Part B"
      ],
      "metadata": {
        "id": "YvuBZHJRWjnS"
      }
    },
    {
      "cell_type": "markdown",
      "source": [
        "## Distiller Loss"
      ],
      "metadata": {
        "id": "8TfpOobBWpTL"
      }
    },
    {
      "cell_type": "code",
      "source": [
        "def distiller_criterion(y_pred, y_true, y_pred_teacher, params):\n",
        "    alpha, tau = params\n",
        "    loss = cross_entropy_criterion(y_pred, y_true)\n",
        "    teacher_pred = F.softmax(y_pred_teacher / tau, dim=1)\n",
        "    student_pred = F.softmax(y_pred / tau, dim=1)\n",
        "    distiller_loss = - (teacher_pred * torch.log(student_pred)).sum(axis=1).mean()\n",
        "    return (1 - alpha) * loss + alpha * (tau ** 2) * distiller_loss"
      ],
      "metadata": {
        "id": "gzbd8t1JSqU8"
      },
      "execution_count": 42,
      "outputs": []
    },
    {
      "cell_type": "markdown",
      "source": [
        "## Finding The best Hyperparameters ($\\alpha$, $\\tau$)"
      ],
      "metadata": {
        "id": "KKGJJUxFWt2h"
      }
    },
    {
      "cell_type": "code",
      "source": [
        "for tau in [1, 2]:\n",
        "    for alpha in [0.2, 0.5, 0.8]:\n",
        "        resnet18_model = resnet18(weights=None).to(device)\n",
        "        resnet18_model.fc = nn.Linear(in_features=512, out_features=10, device=device)\n",
        "        resnet18_optimizer = torch.optim.SGD(resnet18_model.parameters(), lr=0.001, momentum=0.9)\n",
        "\n",
        "        print(f'***** tau={tau}, alpha={alpha} *****')\n",
        "        train_loss, train_acc, val_loss, val_acc = train_model(\n",
        "            resnet18_model, 2, distiller_criterion, resnet18_optimizer,\n",
        "            train_loader, test_loader, resnet50_model, (alpha, tau)\n",
        "        )\n",
        "        print()"
      ],
      "metadata": {
        "colab": {
          "base_uri": "https://localhost:8080/"
        },
        "id": "GybMxgkCUbmC",
        "outputId": "af54387b-1cd2-45c4-9c77-44d1eddf2e2f"
      },
      "execution_count": null,
      "outputs": [
        {
          "output_type": "stream",
          "name": "stdout",
          "text": [
            "***** tau=1, alpha=0.2 *****\n",
            "[Epoch 1]\t [22:4:42]\tTrain Loss: 1.8108\tTrain Accuracy: 0.34\tValidation Loss: 1.6237\t\tValidation Accuracy: 0.41\n",
            "[Epoch 2]\t [22:10:3]\tTrain Loss: 1.4919\tTrain Accuracy: 0.47\tValidation Loss: 1.4472\t\tValidation Accuracy: 0.49\n",
            "\n",
            "***** tau=1, alpha=0.5 *****\n",
            "[Epoch 1]\t [22:15:24]\tTrain Loss: 1.8418\tTrain Accuracy: 0.33\tValidation Loss: 1.6277\t\tValidation Accuracy: 0.43\n",
            "[Epoch 2]\t [22:20:45]\tTrain Loss: 1.5361\tTrain Accuracy: 0.47\tValidation Loss: 1.4835\t\tValidation Accuracy: 0.50\n",
            "\n",
            "***** tau=1, alpha=0.8 *****\n",
            "[Epoch 1]\t [22:26:7]\tTrain Loss: 1.8635\tTrain Accuracy: 0.34\tValidation Loss: 1.7024\t\tValidation Accuracy: 0.41\n",
            "[Epoch 2]\t [22:31:29]\tTrain Loss: 1.6141\tTrain Accuracy: 0.45\tValidation Loss: 1.5437\t\tValidation Accuracy: 0.49\n",
            "\n",
            "***** tau=2, alpha=0.2 *****\n",
            "[Epoch 1]\t [22:36:50]\tTrain Loss: 3.0972\tTrain Accuracy: 0.34\tValidation Loss: 2.8603\t\tValidation Accuracy: 0.42\n",
            "[Epoch 2]\t [22:42:11]\tTrain Loss: 2.7290\tTrain Accuracy: 0.48\tValidation Loss: 2.6844\t\tValidation Accuracy: 0.50\n",
            "\n",
            "***** tau=2, alpha=0.5 *****\n",
            "[Epoch 1]\t [22:47:32]\tTrain Loss: 5.0400\tTrain Accuracy: 0.35\tValidation Loss: 4.7412\t\tValidation Accuracy: 0.44\n",
            "[Epoch 2]\t [22:52:53]\tTrain Loss: 4.6436\tTrain Accuracy: 0.48\tValidation Loss: 4.5432\t\tValidation Accuracy: 0.52\n",
            "\n",
            "***** tau=2, alpha=0.8 *****\n",
            "[Epoch 1]\t [22:58:14]\tTrain Loss: 6.9737\tTrain Accuracy: 0.35\tValidation Loss: 6.7215\t\tValidation Accuracy: 0.43\n",
            "[Epoch 2]\t [23:3:36]\tTrain Loss: 6.5665\tTrain Accuracy: 0.47\tValidation Loss: 6.4664\t\tValidation Accuracy: 0.51\n",
            "\n"
          ]
        }
      ]
    },
    {
      "cell_type": "markdown",
      "source": [
        "## Train The Student Model with The Best Hyperparameters"
      ],
      "metadata": {
        "id": "c3cMQzWgXea4"
      }
    },
    {
      "cell_type": "code",
      "source": [
        "best_alpha, best_tau = 0.5, 2\n",
        "\n",
        "resnet18_model = resnet18(weights=None).to(device)\n",
        "resnet18_model.fc = nn.Linear(in_features=512, out_features=10).to(device)\n",
        "resnet18_optimizer = torch.optim.SGD(resnet18_model.parameters(), lr=0.001, momentum=0.9)\n",
        "\n",
        "train_loss, train_acc, test_loss, test_acc = train_model(\n",
        "    resnet18_model, 15, distiller_criterion, resnet18_optimizer,\n",
        "    train_loader, test_loader, resnet50_model, (best_alpha, best_tau)\n",
        ")"
      ],
      "metadata": {
        "colab": {
          "base_uri": "https://localhost:8080/"
        },
        "id": "I_DTdNJKTQ2d",
        "outputId": "1dd09511-7ec4-4a9c-f720-33ab29239ecf"
      },
      "execution_count": 11,
      "outputs": [
        {
          "output_type": "stream",
          "name": "stderr",
          "text": [
            "100%|██████████| 391/391 [04:32<00:00,  1.43it/s]\n"
          ]
        },
        {
          "output_type": "stream",
          "name": "stdout",
          "text": [
            "[Epoch 1]\t [13:11:57]\tTrain Loss: 4.9782\tTrain Accuracy: 0.34\tValidation Loss: 4.6376\t\tValidation Accuracy: 0.44\n"
          ]
        },
        {
          "output_type": "stream",
          "name": "stderr",
          "text": [
            "100%|██████████| 391/391 [04:35<00:00,  1.42it/s]\n"
          ]
        },
        {
          "output_type": "stream",
          "name": "stdout",
          "text": [
            "[Epoch 2]\t [13:17:10]\tTrain Loss: 4.5137\tTrain Accuracy: 0.49\tValidation Loss: 4.4103\t\tValidation Accuracy: 0.52\n"
          ]
        },
        {
          "output_type": "stream",
          "name": "stderr",
          "text": [
            "100%|██████████| 391/391 [04:35<00:00,  1.42it/s]\n"
          ]
        },
        {
          "output_type": "stream",
          "name": "stdout",
          "text": [
            "[Epoch 3]\t [13:22:24]\tTrain Loss: 4.3152\tTrain Accuracy: 0.55\tValidation Loss: 4.3384\t\tValidation Accuracy: 0.55\n"
          ]
        },
        {
          "output_type": "stream",
          "name": "stderr",
          "text": [
            "100%|██████████| 391/391 [04:35<00:00,  1.42it/s]\n"
          ]
        },
        {
          "output_type": "stream",
          "name": "stdout",
          "text": [
            "[Epoch 4]\t [13:27:39]\tTrain Loss: 4.1942\tTrain Accuracy: 0.60\tValidation Loss: 4.2262\t\tValidation Accuracy: 0.60\n"
          ]
        },
        {
          "output_type": "stream",
          "name": "stderr",
          "text": [
            "100%|██████████| 391/391 [04:35<00:00,  1.42it/s]\n"
          ]
        },
        {
          "output_type": "stream",
          "name": "stdout",
          "text": [
            "[Epoch 5]\t [13:32:52]\tTrain Loss: 4.1105\tTrain Accuracy: 0.64\tValidation Loss: 4.1151\t\tValidation Accuracy: 0.64\n"
          ]
        },
        {
          "output_type": "stream",
          "name": "stderr",
          "text": [
            "100%|██████████| 391/391 [04:35<00:00,  1.42it/s]\n"
          ]
        },
        {
          "output_type": "stream",
          "name": "stdout",
          "text": [
            "[Epoch 6]\t [13:38:6]\tTrain Loss: 4.0426\tTrain Accuracy: 0.67\tValidation Loss: 4.1184\t\tValidation Accuracy: 0.65\n"
          ]
        },
        {
          "output_type": "stream",
          "name": "stderr",
          "text": [
            "100%|██████████| 391/391 [04:35<00:00,  1.42it/s]\n"
          ]
        },
        {
          "output_type": "stream",
          "name": "stdout",
          "text": [
            "[Epoch 7]\t [13:43:21]\tTrain Loss: 3.9891\tTrain Accuracy: 0.69\tValidation Loss: 4.0841\t\tValidation Accuracy: 0.65\n"
          ]
        },
        {
          "output_type": "stream",
          "name": "stderr",
          "text": [
            "100%|██████████| 391/391 [04:35<00:00,  1.42it/s]\n"
          ]
        },
        {
          "output_type": "stream",
          "name": "stdout",
          "text": [
            "[Epoch 8]\t [13:48:35]\tTrain Loss: 3.9459\tTrain Accuracy: 0.71\tValidation Loss: 4.0255\t\tValidation Accuracy: 0.68\n"
          ]
        },
        {
          "output_type": "stream",
          "name": "stderr",
          "text": [
            "100%|██████████| 391/391 [04:35<00:00,  1.42it/s]\n"
          ]
        },
        {
          "output_type": "stream",
          "name": "stdout",
          "text": [
            "[Epoch 9]\t [13:53:49]\tTrain Loss: 3.9054\tTrain Accuracy: 0.73\tValidation Loss: 3.9989\t\tValidation Accuracy: 0.69\n"
          ]
        },
        {
          "output_type": "stream",
          "name": "stderr",
          "text": [
            "100%|██████████| 391/391 [04:35<00:00,  1.42it/s]\n"
          ]
        },
        {
          "output_type": "stream",
          "name": "stdout",
          "text": [
            "[Epoch 10]\t [13:59:3]\tTrain Loss: 3.8724\tTrain Accuracy: 0.75\tValidation Loss: 3.9943\t\tValidation Accuracy: 0.69\n"
          ]
        },
        {
          "output_type": "stream",
          "name": "stderr",
          "text": [
            "100%|██████████| 391/391 [04:35<00:00,  1.42it/s]\n"
          ]
        },
        {
          "output_type": "stream",
          "name": "stdout",
          "text": [
            "[Epoch 11]\t [14:4:17]\tTrain Loss: 3.8356\tTrain Accuracy: 0.77\tValidation Loss: 4.0388\t\tValidation Accuracy: 0.69\n"
          ]
        },
        {
          "output_type": "stream",
          "name": "stderr",
          "text": [
            "100%|██████████| 391/391 [04:35<00:00,  1.42it/s]\n"
          ]
        },
        {
          "output_type": "stream",
          "name": "stdout",
          "text": [
            "[Epoch 12]\t [14:9:30]\tTrain Loss: 3.8089\tTrain Accuracy: 0.78\tValidation Loss: 3.9802\t\tValidation Accuracy: 0.70\n"
          ]
        },
        {
          "output_type": "stream",
          "name": "stderr",
          "text": [
            "100%|██████████| 391/391 [04:35<00:00,  1.42it/s]\n"
          ]
        },
        {
          "output_type": "stream",
          "name": "stdout",
          "text": [
            "[Epoch 13]\t [14:14:44]\tTrain Loss: 3.7803\tTrain Accuracy: 0.80\tValidation Loss: 3.9352\t\tValidation Accuracy: 0.72\n"
          ]
        },
        {
          "output_type": "stream",
          "name": "stderr",
          "text": [
            "100%|██████████| 391/391 [04:35<00:00,  1.42it/s]\n"
          ]
        },
        {
          "output_type": "stream",
          "name": "stdout",
          "text": [
            "[Epoch 14]\t [14:19:59]\tTrain Loss: 3.7528\tTrain Accuracy: 0.81\tValidation Loss: 3.9217\t\tValidation Accuracy: 0.73\n"
          ]
        },
        {
          "output_type": "stream",
          "name": "stderr",
          "text": [
            "100%|██████████| 391/391 [04:35<00:00,  1.42it/s]\n"
          ]
        },
        {
          "output_type": "stream",
          "name": "stdout",
          "text": [
            "[Epoch 15]\t [14:25:12]\tTrain Loss: 3.7228\tTrain Accuracy: 0.83\tValidation Loss: 3.9050\t\tValidation Accuracy: 0.74\n"
          ]
        }
      ]
    },
    {
      "cell_type": "markdown",
      "source": [
        "## Accuracy & Loss Plots"
      ],
      "metadata": {
        "id": "3IROb1cRZPEb"
      }
    },
    {
      "cell_type": "code",
      "source": [
        "fig, axes = plt.subplots(1, 2, figsize=(15, 5))\n",
        "\n",
        "axis = axes[0]\n",
        "axis.plot(train_loss)\n",
        "axis.plot(test_loss)\n",
        "axis.set_title('Loss plot')\n",
        "axis.legend(['Train Loss', 'Test Loss'])\n",
        "\n",
        "axis = axes[1]\n",
        "axis.plot(train_acc)\n",
        "axis.plot(test_acc)\n",
        "axis.set_title('Accuracy plot')\n",
        "axis.legend(['Train Accuracy', 'Test Accuracy'])"
      ],
      "metadata": {
        "colab": {
          "base_uri": "https://localhost:8080/",
          "height": 354
        },
        "id": "gcpQo_11YHIo",
        "outputId": "b0b5df39-3fc6-4e59-89b1-796c17adab5b"
      },
      "execution_count": 10,
      "outputs": [
        {
          "output_type": "execute_result",
          "data": {
            "text/plain": [
              "<matplotlib.legend.Legend at 0x7fb3b8015fd0>"
            ]
          },
          "metadata": {},
          "execution_count": 10
        },
        {
          "output_type": "display_data",
          "data": {
            "text/plain": [
              "<Figure size 1080x360 with 2 Axes>"
            ],
            "image/png": "[encoded data removed]"
          },
          "metadata": {
            "needs_background": "light"
          }
        }
      ]
    },
    {
      "cell_type": "markdown",
      "source": [
        "# Part C"
      ],
      "metadata": {
        "id": "tWc9IKZUWh5S"
      }
    },
    {
      "cell_type": "markdown",
      "source": [
        "## Train ResNet18 without Teacher"
      ],
      "metadata": {
        "id": "U57FqklwXsuZ"
      }
    },
    {
      "cell_type": "code",
      "source": [
        "resnet18_model = resnet18(weights=None).to(device)\n",
        "resnet18_model.fc = nn.Linear(in_features=512, out_features=10).to(device)\n",
        "resnet18_optimizer = torch.optim.SGD(resnet18_model.parameters(), lr=0.001, momentum=0.9)\n",
        "cross_entropy_criterion = nn.CrossEntropyLoss()\n",
        "\n",
        "train_loss, train_acc, test_loss, test_acc = train_model(\n",
        "    resnet18_model, 15 , cross_entropy_criterion, resnet18_optimizer, train_loader, test_loader\n",
        ")"
      ],
      "metadata": {
        "colab": {
          "base_uri": "https://localhost:8080/"
        },
        "id": "C0hr7ZzEWhla",
        "outputId": "391f80ab-3fc3-47e2-e59b-3b4293c8794f"
      },
      "execution_count": 21,
      "outputs": [
        {
          "output_type": "stream",
          "name": "stdout",
          "text": [
            "100%|██████████| 391/391 [02:24<00:00,  2.70it/s]\n",
            "[Epoch 1]\t [14:28:40]\tTrain Loss: 1.8211\tTrain Accuracy: 0.33\tValidation Loss: 1.5923\t\tValidation Accuracy: 0.41\n",
            "100%|██████████| 391/391 [02:25<00:00,  2.68it/s]\n",
            "[Epoch 2]\t [14:31:29]\tTrain Loss: 1.4480\tTrain Accuracy: 0.47\tValidation Loss: 1.4119\t\tValidation Accuracy: 0.49\n",
            "100%|██████████| 391/391 [02:25<00:00,  2.69it/s]\n",
            "[Epoch 3]\t [14:34:18]\tTrain Loss: 1.2763\tTrain Accuracy: 0.54\tValidation Loss: 1.2643\t\tValidation Accuracy: 0.53\n",
            "100%|██████████| 391/391 [02:25<00:00,  2.69it/s]\n",
            "[Epoch 4]\t [14:37:7]\tTrain Loss: 1.1497\tTrain Accuracy: 0.59\tValidation Loss: 1.1680\t\tValidation Accuracy: 0.58\n",
            "100%|██████████| 391/391 [02:24<00:00,  2.70it/s]\n",
            "[Epoch 5]\t [14:39:56]\tTrain Loss: 1.0467\tTrain Accuracy: 0.63\tValidation Loss: 1.2910\t\tValidation Accuracy: 0.56\n",
            "100%|██████████| 391/391 [02:25<00:00,  2.69it/s]\n",
            "[Epoch 6]\t [14:42:45]\tTrain Loss: 0.9613\tTrain Accuracy: 0.66\tValidation Loss: 1.2215\t\tValidation Accuracy: 0.59\n",
            "100%|██████████| 391/391 [02:25<00:00,  2.68it/s]\n",
            "[Epoch 7]\t [14:45:35]\tTrain Loss: 0.8803\tTrain Accuracy: 0.69\tValidation Loss: 0.9896\t\tValidation Accuracy: 0.64\n",
            "100%|██████████| 391/391 [02:25<00:00,  2.69it/s]\n",
            "[Epoch 8]\t [14:48:24]\tTrain Loss: 0.8098\tTrain Accuracy: 0.71\tValidation Loss: 0.9840\t\tValidation Accuracy: 0.65\n",
            "100%|██████████| 391/391 [02:25<00:00,  2.69it/s]\n",
            "[Epoch 9]\t [14:51:13]\tTrain Loss: 0.7477\tTrain Accuracy: 0.74\tValidation Loss: 0.9097\t\tValidation Accuracy: 0.68\n",
            "100%|██████████| 391/391 [02:25<00:00,  2.68it/s]\n",
            "[Epoch 10]\t [14:54:3]\tTrain Loss: 0.6816\tTrain Accuracy: 0.76\tValidation Loss: 0.8700\t\tValidation Accuracy: 0.69\n",
            "100%|██████████| 391/391 [02:25<00:00,  2.68it/s]\n",
            "[Epoch 11]\t [14:56:52]\tTrain Loss: 0.6196\tTrain Accuracy: 0.78\tValidation Loss: 0.8569\t\tValidation Accuracy: 0.70\n",
            "100%|██████████| 391/391 [02:25<00:00,  2.69it/s]\n",
            "[Epoch 12]\t [14:59:42]\tTrain Loss: 0.5632\tTrain Accuracy: 0.81\tValidation Loss: 0.8792\t\tValidation Accuracy: 0.70\n",
            "100%|██████████| 391/391 [02:25<00:00,  2.69it/s]\n",
            "[Epoch 13]\t [15:2:32]\tTrain Loss: 0.5019\tTrain Accuracy: 0.83\tValidation Loss: 0.8292\t\tValidation Accuracy: 0.72\n",
            "100%|██████████| 391/391 [02:25<00:00,  2.68it/s]\n",
            "[Epoch 14]\t [15:5:22]\tTrain Loss: 0.4427\tTrain Accuracy: 0.85\tValidation Loss: 1.0204\t\tValidation Accuracy: 0.67\n",
            "100%|██████████| 391/391 [02:25<00:00,  2.69it/s]\n",
            "[Epoch 15]\t [15:8:13]\tTrain Loss: 0.4131\tTrain Accuracy: 0.86\tValidation Loss: 0.8529\t\tValidation Accuracy: 0.71\n"
          ]
        }
      ]
    },
    {
      "cell_type": "markdown",
      "source": [
        "## Accuracy & Loss Plots"
      ],
      "metadata": {
        "id": "H6DE3qKAZV6L"
      }
    },
    {
      "cell_type": "code",
      "source": [
        "fig, axes = plt.subplots(1, 2, figsize=(15, 5))\n",
        "\n",
        "axis = axes[0]\n",
        "axis.plot(train_loss)\n",
        "axis.plot(test_loss)\n",
        "axis.set_title('Loss plot')\n",
        "axis.legend(['Train Loss', 'Test Loss'])\n",
        "\n",
        "axis = axes[1]\n",
        "axis.plot(train_acc)\n",
        "axis.plot(test_acc)\n",
        "axis.set_title('Accuracy plot')\n",
        "axis.legend(['Train Accuracy', 'Test Accuracy'])"
      ],
      "metadata": {
        "colab": {
          "base_uri": "https://localhost:8080/",
          "height": 354
        },
        "id": "K_cBBK7RYTLH",
        "outputId": "e098f267-50b7-4306-af10-5f18c74e0f05"
      },
      "execution_count": 27,
      "outputs": [
        {
          "output_type": "execute_result",
          "data": {
            "text/plain": [
              "<matplotlib.legend.Legend at 0x7fb3b7e64ca0>"
            ]
          },
          "metadata": {},
          "execution_count": 27
        },
        {
          "output_type": "display_data",
          "data": {
            "text/plain": [
              "<Figure size 1080x360 with 2 Axes>"
            ],
            "image/png": "[encoded data removed]"
          },
          "metadata": {
            "needs_background": "light"
          }
        }
      ]
    },
    {
      "cell_type": "markdown",
      "source": [
        "## Training with Teacher vs Training itself"
      ],
      "metadata": {
        "id": "Xfu-UP79z49c"
      }
    },
    {
      "cell_type": "markdown",
      "source": [
        "As we can see the student model train better when we use a more complex model as its teacher. The accuracy we reached when training with teacher is 0.74\\% on test set while the accuracy we reached when there is no teacher model is 0.71\\% at the same number of epochs.\n",
        "\n",
        "The reason is teacher model tells the student model what the distribution of the probability of the output vector is (sometimes the input image could be visually similar to another class so we would want the output to have a higher probability on that class compaired to the other wrong classes). In the classic method we only push the output vector to have the highest probability on the correct class\n",
        "\n",
        "It conclude that using the predictions and involving the loss of a complex model which has been trained on the data, to calculating the loss of a smaller model, can improve the accuacy of smaller model."
      ],
      "metadata": {
        "id": "rA0hqDay0KFR"
      }
    },
    {
      "cell_type": "markdown",
      "source": [
        "# Part D"
      ],
      "metadata": {
        "id": "F6u8tui1YXQg"
      }
    },
    {
      "cell_type": "markdown",
      "source": [
        "## Fine Tuning Teacher Model"
      ],
      "metadata": {
        "id": "NibTy-JwYY1_"
      }
    },
    {
      "cell_type": "code",
      "source": [
        "resnet50_model = resnet50(weights='IMAGENET1K_V2').to(device)\n",
        "resnet50_model.fc = nn.Linear(in_features=2048, out_features=10, device=device)\n",
        "\n",
        "params = resnet50_model.parameters()\n",
        "for param in params: \n",
        "    param.requires_grad = True"
      ],
      "metadata": {
        "id": "ZD0NPrMaYa79"
      },
      "execution_count": 38,
      "outputs": []
    },
    {
      "cell_type": "code",
      "source": [
        "cross_entropy_criterion = nn.CrossEntropyLoss()\n",
        "resnet50_optimizer = torch.optim.SGD(resnet50_model.fc.parameters(), lr=0.001, momentum=0.9)\n",
        "\n",
        "train_loss, train_acc, test_loss, test_acc = train_model(resnet50_model, 20, cross_entropy_criterion, resnet50_optimizer, train_loader, test_loader)"
      ],
      "metadata": {
        "colab": {
          "base_uri": "https://localhost:8080/"
        },
        "id": "gMd7FyuPYmH-",
        "outputId": "3eab7ec7-d58c-4e8c-8571-fb0bde3da3ed"
      },
      "execution_count": 39,
      "outputs": [
        {
          "output_type": "stream",
          "name": "stderr",
          "text": [
            "100%|██████████| 391/391 [01:11<00:00,  5.48it/s]\n"
          ]
        },
        {
          "output_type": "stream",
          "name": "stdout",
          "text": [
            "[Epoch 1]\t [16:50:1]\tTrain Loss: 1.6111\tTrain Accuracy: 0.60\tValidation Loss: 1.2168\t\tValidation Accuracy: 0.70\n"
          ]
        },
        {
          "output_type": "stream",
          "name": "stderr",
          "text": [
            "100%|██████████| 391/391 [01:11<00:00,  5.50it/s]\n"
          ]
        },
        {
          "output_type": "stream",
          "name": "stdout",
          "text": [
            "[Epoch 2]\t [16:51:27]\tTrain Loss: 1.0873\tTrain Accuracy: 0.71\tValidation Loss: 0.9914\t\tValidation Accuracy: 0.72\n"
          ]
        },
        {
          "output_type": "stream",
          "name": "stderr",
          "text": [
            "100%|██████████| 391/391 [01:11<00:00,  5.49it/s]\n"
          ]
        },
        {
          "output_type": "stream",
          "name": "stdout",
          "text": [
            "[Epoch 3]\t [16:52:52]\tTrain Loss: 0.9416\tTrain Accuracy: 0.73\tValidation Loss: 0.8950\t\tValidation Accuracy: 0.73\n"
          ]
        },
        {
          "output_type": "stream",
          "name": "stderr",
          "text": [
            "100%|██████████| 391/391 [01:11<00:00,  5.51it/s]\n"
          ]
        },
        {
          "output_type": "stream",
          "name": "stdout",
          "text": [
            "[Epoch 4]\t [16:54:18]\tTrain Loss: 0.8679\tTrain Accuracy: 0.74\tValidation Loss: 0.8398\t\tValidation Accuracy: 0.74\n"
          ]
        },
        {
          "output_type": "stream",
          "name": "stderr",
          "text": [
            "100%|██████████| 391/391 [01:12<00:00,  5.41it/s]\n"
          ]
        },
        {
          "output_type": "stream",
          "name": "stdout",
          "text": [
            "[Epoch 5]\t [16:55:45]\tTrain Loss: 0.8214\tTrain Accuracy: 0.75\tValidation Loss: 0.8011\t\tValidation Accuracy: 0.75\n"
          ]
        },
        {
          "output_type": "stream",
          "name": "stderr",
          "text": [
            "100%|██████████| 391/391 [01:10<00:00,  5.52it/s]\n"
          ]
        },
        {
          "output_type": "stream",
          "name": "stdout",
          "text": [
            "[Epoch 6]\t [16:57:10]\tTrain Loss: 0.7879\tTrain Accuracy: 0.75\tValidation Loss: 0.7779\t\tValidation Accuracy: 0.75\n"
          ]
        },
        {
          "output_type": "stream",
          "name": "stderr",
          "text": [
            "100%|██████████| 391/391 [01:10<00:00,  5.54it/s]\n"
          ]
        },
        {
          "output_type": "stream",
          "name": "stdout",
          "text": [
            "[Epoch 7]\t [16:58:35]\tTrain Loss: 0.7627\tTrain Accuracy: 0.76\tValidation Loss: 0.7547\t\tValidation Accuracy: 0.76\n"
          ]
        },
        {
          "output_type": "stream",
          "name": "stderr",
          "text": [
            "100%|██████████| 391/391 [01:11<00:00,  5.48it/s]\n"
          ]
        },
        {
          "output_type": "stream",
          "name": "stdout",
          "text": [
            "[Epoch 8]\t [17:0:1]\tTrain Loss: 0.7436\tTrain Accuracy: 0.76\tValidation Loss: 0.7358\t\tValidation Accuracy: 0.76\n"
          ]
        },
        {
          "output_type": "stream",
          "name": "stderr",
          "text": [
            "100%|██████████| 391/391 [01:10<00:00,  5.52it/s]\n"
          ]
        },
        {
          "output_type": "stream",
          "name": "stdout",
          "text": [
            "[Epoch 9]\t [17:1:26]\tTrain Loss: 0.7259\tTrain Accuracy: 0.77\tValidation Loss: 0.7214\t\tValidation Accuracy: 0.76\n"
          ]
        },
        {
          "output_type": "stream",
          "name": "stderr",
          "text": [
            "100%|██████████| 391/391 [01:10<00:00,  5.56it/s]\n"
          ]
        },
        {
          "output_type": "stream",
          "name": "stdout",
          "text": [
            "[Epoch 10]\t [17:2:51]\tTrain Loss: 0.7124\tTrain Accuracy: 0.77\tValidation Loss: 0.7121\t\tValidation Accuracy: 0.77\n"
          ]
        },
        {
          "output_type": "stream",
          "name": "stderr",
          "text": [
            "100%|██████████| 391/391 [01:10<00:00,  5.56it/s]\n"
          ]
        },
        {
          "output_type": "stream",
          "name": "stdout",
          "text": [
            "[Epoch 11]\t [17:4:15]\tTrain Loss: 0.7014\tTrain Accuracy: 0.77\tValidation Loss: 0.7060\t\tValidation Accuracy: 0.77\n"
          ]
        },
        {
          "output_type": "stream",
          "name": "stderr",
          "text": [
            "100%|██████████| 391/391 [01:10<00:00,  5.54it/s]\n"
          ]
        },
        {
          "output_type": "stream",
          "name": "stdout",
          "text": [
            "[Epoch 12]\t [17:5:40]\tTrain Loss: 0.6899\tTrain Accuracy: 0.78\tValidation Loss: 0.6907\t\tValidation Accuracy: 0.77\n"
          ]
        },
        {
          "output_type": "stream",
          "name": "stderr",
          "text": [
            "100%|██████████| 391/391 [01:10<00:00,  5.55it/s]\n"
          ]
        },
        {
          "output_type": "stream",
          "name": "stdout",
          "text": [
            "[Epoch 13]\t [17:7:5]\tTrain Loss: 0.6784\tTrain Accuracy: 0.78\tValidation Loss: 0.6834\t\tValidation Accuracy: 0.77\n"
          ]
        },
        {
          "output_type": "stream",
          "name": "stderr",
          "text": [
            "100%|██████████| 391/391 [01:10<00:00,  5.53it/s]\n"
          ]
        },
        {
          "output_type": "stream",
          "name": "stdout",
          "text": [
            "[Epoch 14]\t [17:8:30]\tTrain Loss: 0.6695\tTrain Accuracy: 0.78\tValidation Loss: 0.6770\t\tValidation Accuracy: 0.77\n"
          ]
        },
        {
          "output_type": "stream",
          "name": "stderr",
          "text": [
            "100%|██████████| 391/391 [01:10<00:00,  5.54it/s]\n"
          ]
        },
        {
          "output_type": "stream",
          "name": "stdout",
          "text": [
            "[Epoch 15]\t [17:9:55]\tTrain Loss: 0.6624\tTrain Accuracy: 0.78\tValidation Loss: 0.6716\t\tValidation Accuracy: 0.77\n"
          ]
        },
        {
          "output_type": "stream",
          "name": "stderr",
          "text": [
            "100%|██████████| 391/391 [01:11<00:00,  5.44it/s]\n"
          ]
        },
        {
          "output_type": "stream",
          "name": "stdout",
          "text": [
            "[Epoch 16]\t [17:11:21]\tTrain Loss: 0.6557\tTrain Accuracy: 0.79\tValidation Loss: 0.6669\t\tValidation Accuracy: 0.78\n"
          ]
        },
        {
          "output_type": "stream",
          "name": "stderr",
          "text": [
            "100%|██████████| 391/391 [01:11<00:00,  5.46it/s]\n"
          ]
        },
        {
          "output_type": "stream",
          "name": "stdout",
          "text": [
            "[Epoch 17]\t [17:12:48]\tTrain Loss: 0.6468\tTrain Accuracy: 0.79\tValidation Loss: 0.6579\t\tValidation Accuracy: 0.78\n"
          ]
        },
        {
          "output_type": "stream",
          "name": "stderr",
          "text": [
            "100%|██████████| 391/391 [01:10<00:00,  5.53it/s]\n"
          ]
        },
        {
          "output_type": "stream",
          "name": "stdout",
          "text": [
            "[Epoch 18]\t [17:14:13]\tTrain Loss: 0.6426\tTrain Accuracy: 0.79\tValidation Loss: 0.6541\t\tValidation Accuracy: 0.78\n"
          ]
        },
        {
          "output_type": "stream",
          "name": "stderr",
          "text": [
            "100%|██████████| 391/391 [01:10<00:00,  5.54it/s]\n"
          ]
        },
        {
          "output_type": "stream",
          "name": "stdout",
          "text": [
            "[Epoch 19]\t [17:15:38]\tTrain Loss: 0.6369\tTrain Accuracy: 0.79\tValidation Loss: 0.6508\t\tValidation Accuracy: 0.78\n"
          ]
        },
        {
          "output_type": "stream",
          "name": "stderr",
          "text": [
            "100%|██████████| 391/391 [01:10<00:00,  5.53it/s]\n"
          ]
        },
        {
          "output_type": "stream",
          "name": "stdout",
          "text": [
            "[Epoch 20]\t [17:17:3]\tTrain Loss: 0.6309\tTrain Accuracy: 0.79\tValidation Loss: 0.6475\t\tValidation Accuracy: 0.78\n"
          ]
        }
      ]
    },
    {
      "cell_type": "markdown",
      "source": [
        "## Accuracy & Loss Plots"
      ],
      "metadata": {
        "id": "qr6A8ooUaKH0"
      }
    },
    {
      "cell_type": "code",
      "source": [
        "fig, axes = plt.subplots(1, 2, figsize=(15, 5))\n",
        "\n",
        "axis = axes[0]\n",
        "axis.plot(train_loss)\n",
        "axis.plot(test_loss)\n",
        "axis.set_title('Loss plot')\n",
        "axis.legend(['Train Loss', 'Test Loss'])\n",
        "\n",
        "axis = axes[1]\n",
        "axis.plot(train_acc)\n",
        "axis.plot(test_acc)\n",
        "axis.set_title('Accuracy plot')\n",
        "axis.legend(['Train Accuracy', 'Test Accuracy'])"
      ],
      "metadata": {
        "colab": {
          "base_uri": "https://localhost:8080/",
          "height": 354
        },
        "id": "8rhKfG_2YzfU",
        "outputId": "350aa594-25ad-4105-fa7c-7e5dbcccbb81"
      },
      "execution_count": 40,
      "outputs": [
        {
          "output_type": "execute_result",
          "data": {
            "text/plain": [
              "<matplotlib.legend.Legend at 0x7fb39c1d9ca0>"
            ]
          },
          "metadata": {},
          "execution_count": 40
        },
        {
          "output_type": "display_data",
          "data": {
            "text/plain": [
              "<Figure size 1080x360 with 2 Axes>"
            ],
            "image/png": "[encoded data removed]"
          },
          "metadata": {
            "needs_background": "light"
          }
        }
      ]
    },
    {
      "cell_type": "markdown",
      "source": [
        "## Train Student Model with Teacher"
      ],
      "metadata": {
        "id": "V-XlNn35aOk0"
      }
    },
    {
      "cell_type": "code",
      "source": [
        "best_tau, best_alpha = (0.5, 15)\n",
        "\n",
        "resnet18_model = resnet18(weights=None).to(device)\n",
        "resnet18_model.fc = nn.Linear(in_features=512, out_features=10, bias=True).to(device)\n",
        "resnet18_optimizer = torch.optim.Adam(resnet18_model.parameters())\n",
        "\n",
        "train_loss, train_acc, test_loss, test_acc = train_model(\n",
        "    resnet18_model, 15, distiller_criterion, resnet18_optimizer,\n",
        "    train_loader, test_loader, resnet50_model, (best_tau, best_alpha)\n",
        ")"
      ],
      "metadata": {
        "colab": {
          "base_uri": "https://localhost:8080/"
        },
        "id": "ITPc2blFaEV2",
        "outputId": "2f01516a-162c-4ad4-8cc5-3ca1e8115719"
      },
      "execution_count": 43,
      "outputs": [
        {
          "output_type": "stream",
          "name": "stderr",
          "text": [
            "100%|██████████| 391/391 [01:25<00:00,  4.56it/s]\n"
          ]
        },
        {
          "output_type": "stream",
          "name": "stdout",
          "text": [
            "[Epoch 1]\t [17:19:40]\tTrain Loss: 258.7792\tTrain Accuracy: 0.54\tValidation Loss: 258.6567\t\tValidation Accuracy: 0.62\n"
          ]
        },
        {
          "output_type": "stream",
          "name": "stderr",
          "text": [
            "100%|██████████| 391/391 [01:25<00:00,  4.56it/s]\n"
          ]
        },
        {
          "output_type": "stream",
          "name": "stdout",
          "text": [
            "[Epoch 2]\t [17:21:20]\tTrain Loss: 258.3603\tTrain Accuracy: 0.73\tValidation Loss: 258.3797\t\tValidation Accuracy: 0.74\n"
          ]
        },
        {
          "output_type": "stream",
          "name": "stderr",
          "text": [
            "100%|██████████| 391/391 [01:25<00:00,  4.56it/s]\n"
          ]
        },
        {
          "output_type": "stream",
          "name": "stdout",
          "text": [
            "[Epoch 3]\t [17:23:0]\tTrain Loss: 258.2118\tTrain Accuracy: 0.80\tValidation Loss: 258.3322\t\tValidation Accuracy: 0.75\n"
          ]
        },
        {
          "output_type": "stream",
          "name": "stderr",
          "text": [
            "100%|██████████| 391/391 [01:25<00:00,  4.55it/s]\n"
          ]
        },
        {
          "output_type": "stream",
          "name": "stdout",
          "text": [
            "[Epoch 4]\t [17:24:41]\tTrain Loss: 258.1379\tTrain Accuracy: 0.84\tValidation Loss: 258.1704\t\tValidation Accuracy: 0.83\n"
          ]
        },
        {
          "output_type": "stream",
          "name": "stderr",
          "text": [
            "100%|██████████| 391/391 [01:25<00:00,  4.56it/s]\n"
          ]
        },
        {
          "output_type": "stream",
          "name": "stdout",
          "text": [
            "[Epoch 5]\t [17:26:21]\tTrain Loss: 258.0788\tTrain Accuracy: 0.88\tValidation Loss: 258.1844\t\tValidation Accuracy: 0.83\n"
          ]
        },
        {
          "output_type": "stream",
          "name": "stderr",
          "text": [
            "100%|██████████| 391/391 [01:25<00:00,  4.56it/s]\n"
          ]
        },
        {
          "output_type": "stream",
          "name": "stdout",
          "text": [
            "[Epoch 6]\t [17:28:1]\tTrain Loss: 258.0328\tTrain Accuracy: 0.90\tValidation Loss: 258.1739\t\tValidation Accuracy: 0.84\n"
          ]
        },
        {
          "output_type": "stream",
          "name": "stderr",
          "text": [
            "100%|██████████| 391/391 [01:25<00:00,  4.56it/s]\n"
          ]
        },
        {
          "output_type": "stream",
          "name": "stdout",
          "text": [
            "[Epoch 7]\t [17:29:42]\tTrain Loss: 257.9925\tTrain Accuracy: 0.93\tValidation Loss: 258.1175\t\tValidation Accuracy: 0.86\n"
          ]
        },
        {
          "output_type": "stream",
          "name": "stderr",
          "text": [
            "100%|██████████| 391/391 [01:26<00:00,  4.55it/s]\n"
          ]
        },
        {
          "output_type": "stream",
          "name": "stdout",
          "text": [
            "[Epoch 8]\t [17:31:22]\tTrain Loss: 257.9519\tTrain Accuracy: 0.95\tValidation Loss: 258.1446\t\tValidation Accuracy: 0.85\n"
          ]
        },
        {
          "output_type": "stream",
          "name": "stderr",
          "text": [
            "100%|██████████| 391/391 [01:26<00:00,  4.55it/s]\n"
          ]
        },
        {
          "output_type": "stream",
          "name": "stdout",
          "text": [
            "[Epoch 9]\t [17:33:3]\tTrain Loss: 257.9163\tTrain Accuracy: 0.97\tValidation Loss: 258.1367\t\tValidation Accuracy: 0.85\n"
          ]
        },
        {
          "output_type": "stream",
          "name": "stderr",
          "text": [
            "100%|██████████| 391/391 [01:26<00:00,  4.55it/s]\n"
          ]
        },
        {
          "output_type": "stream",
          "name": "stdout",
          "text": [
            "[Epoch 10]\t [17:34:43]\tTrain Loss: 257.8856\tTrain Accuracy: 0.98\tValidation Loss: 258.1154\t\tValidation Accuracy: 0.85\n"
          ]
        },
        {
          "output_type": "stream",
          "name": "stderr",
          "text": [
            "100%|██████████| 391/391 [01:26<00:00,  4.54it/s]\n"
          ]
        },
        {
          "output_type": "stream",
          "name": "stdout",
          "text": [
            "[Epoch 11]\t [17:36:24]\tTrain Loss: 257.8612\tTrain Accuracy: 0.99\tValidation Loss: 258.1146\t\tValidation Accuracy: 0.86\n"
          ]
        },
        {
          "output_type": "stream",
          "name": "stderr",
          "text": [
            "100%|██████████| 391/391 [01:26<00:00,  4.54it/s]\n"
          ]
        },
        {
          "output_type": "stream",
          "name": "stdout",
          "text": [
            "[Epoch 12]\t [17:38:4]\tTrain Loss: 257.8430\tTrain Accuracy: 0.99\tValidation Loss: 258.1300\t\tValidation Accuracy: 0.86\n"
          ]
        },
        {
          "output_type": "stream",
          "name": "stderr",
          "text": [
            "100%|██████████| 391/391 [01:26<00:00,  4.55it/s]\n"
          ]
        },
        {
          "output_type": "stream",
          "name": "stdout",
          "text": [
            "[Epoch 13]\t [17:39:45]\tTrain Loss: 257.8220\tTrain Accuracy: 0.99\tValidation Loss: 258.0902\t\tValidation Accuracy: 0.87\n"
          ]
        },
        {
          "output_type": "stream",
          "name": "stderr",
          "text": [
            "100%|██████████| 391/391 [01:26<00:00,  4.55it/s]\n"
          ]
        },
        {
          "output_type": "stream",
          "name": "stdout",
          "text": [
            "[Epoch 14]\t [17:41:25]\tTrain Loss: 257.8066\tTrain Accuracy: 0.99\tValidation Loss: 258.1283\t\tValidation Accuracy: 0.86\n"
          ]
        },
        {
          "output_type": "stream",
          "name": "stderr",
          "text": [
            "100%|██████████| 391/391 [01:26<00:00,  4.54it/s]\n"
          ]
        },
        {
          "output_type": "stream",
          "name": "stdout",
          "text": [
            "[Epoch 15]\t [17:43:6]\tTrain Loss: 257.7916\tTrain Accuracy: 0.99\tValidation Loss: 258.1132\t\tValidation Accuracy: 0.87\n"
          ]
        }
      ]
    },
    {
      "cell_type": "markdown",
      "source": [
        "## Accuracy & Loss Plots"
      ],
      "metadata": {
        "id": "tEGQ3yTJapQ8"
      }
    },
    {
      "cell_type": "code",
      "source": [
        "fig, axes = plt.subplots(1, 2, figsize=(15, 5))\n",
        "\n",
        "axis = axes[0]\n",
        "axis.plot(train_loss)\n",
        "axis.plot(test_loss)\n",
        "axis.set_title('Loss plot')\n",
        "axis.legend(['Train Loss', 'Test Loss'])\n",
        "\n",
        "axis = axes[1]\n",
        "axis.plot(train_acc)\n",
        "axis.plot(test_acc)\n",
        "axis.set_title('Accuracy plot')\n",
        "axis.legend(['Train Accuracy', 'Test Accuracy'])"
      ],
      "metadata": {
        "colab": {
          "base_uri": "https://localhost:8080/",
          "height": 354
        },
        "id": "WWgIJMN-anL2",
        "outputId": "aab5211d-a911-47fd-a218-e5de7f29356b"
      },
      "execution_count": 44,
      "outputs": [
        {
          "output_type": "execute_result",
          "data": {
            "text/plain": [
              "<matplotlib.legend.Legend at 0x7fb34bfb5670>"
            ]
          },
          "metadata": {},
          "execution_count": 44
        },
        {
          "output_type": "display_data",
          "data": {
            "text/plain": [
              "<Figure size 1080x360 with 2 Axes>"
            ],
            "image/png": "[encoded data removed]"
          },
          "metadata": {
            "needs_background": "light"
          }
        }
      ]
    },
    {
      "cell_type": "markdown",
      "source": [
        "## Linear Tuning vs. Fine Tuning"
      ],
      "metadata": {
        "id": "CSJiT-kcOGru"
      }
    },
    {
      "cell_type": "markdown",
      "source": [
        "As we can see the results, linear tuning the teacher model leads to 74\\% test accuracy of student model, but fine tuning the teaacher model leads to 87\\% test accuracy of student model.\n",
        "\n",
        "It is because we have more flexible model to train when we train whole model (Fine Tuning).\n",
        "\n",
        "But the accuracy of linear tuning is also acceptable because the pretrained model has learned how to extract good feature for the classification task and we are only learning to re-use these features for new classification."
      ],
      "metadata": {
        "id": "_0FDRg_XONRo"
      }
    }
  ]
}
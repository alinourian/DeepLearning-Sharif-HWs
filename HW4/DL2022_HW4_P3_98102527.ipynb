{
  "nbformat": 4,
  "nbformat_minor": 0,
  "metadata": {
    "colab": {
      "provenance": [],
      "toc_visible": true
    },
    "kernelspec": {
      "name": "python3",
      "display_name": "Python 3"
    },
    "language_info": {
      "name": "python"
    },
    "accelerator": "GPU",
    "gpuClass": "standard",
    "widgets": {
      "application/vnd.jupyter.widget-state+json": {
        "2513fb4d661f42b59340f6622817912c": {
          "model_module": "@jupyter-widgets/controls",
          "model_name": "HBoxModel",
          "model_module_version": "1.5.0",
          "state": {
            "_dom_classes": [],
            "_model_module": "@jupyter-widgets/controls",
            "_model_module_version": "1.5.0",
            "_model_name": "HBoxModel",
            "_view_count": null,
            "_view_module": "@jupyter-widgets/controls",
            "_view_module_version": "1.5.0",
            "_view_name": "HBoxView",
            "box_style": "",
            "children": [
              "IPY_MODEL_5b1709b8f7bd4a2bbc9d512abe187878",
              "IPY_MODEL_9e4b7f22adde40b88bdc87a01371201f",
              "IPY_MODEL_a497812c40c84bdfbc45e640854519d5"
            ],
            "layout": "IPY_MODEL_e6a6e80c856d408caab1dac465e6eb2a"
          }
        },
        "5b1709b8f7bd4a2bbc9d512abe187878": {
          "model_module": "@jupyter-widgets/controls",
          "model_name": "HTMLModel",
          "model_module_version": "1.5.0",
          "state": {
            "_dom_classes": [],
            "_model_module": "@jupyter-widgets/controls",
            "_model_module_version": "1.5.0",
            "_model_name": "HTMLModel",
            "_view_count": null,
            "_view_module": "@jupyter-widgets/controls",
            "_view_module_version": "1.5.0",
            "_view_name": "HTMLView",
            "description": "",
            "description_tooltip": null,
            "layout": "IPY_MODEL_8fb0c4b3ee0e4e5894c1f65c553bfd74",
            "placeholder": "​",
            "style": "IPY_MODEL_4fd3df36e1764dafa995495dfbeb7c9a",
            "value": "Downloading (…)solve/main/vocab.txt: 100%"
          }
        },
        "9e4b7f22adde40b88bdc87a01371201f": {
          "model_module": "@jupyter-widgets/controls",
          "model_name": "FloatProgressModel",
          "model_module_version": "1.5.0",
          "state": {
            "_dom_classes": [],
            "_model_module": "@jupyter-widgets/controls",
            "_model_module_version": "1.5.0",
            "_model_name": "FloatProgressModel",
            "_view_count": null,
            "_view_module": "@jupyter-widgets/controls",
            "_view_module_version": "1.5.0",
            "_view_name": "ProgressView",
            "bar_style": "success",
            "description": "",
            "description_tooltip": null,
            "layout": "IPY_MODEL_f4491c8e5d784e218475b0a485f16b0a",
            "max": 1198122,
            "min": 0,
            "orientation": "horizontal",
            "style": "IPY_MODEL_777dc2b1a59348a5b26dc3e4790720a8",
            "value": 1198122
          }
        },
        "a497812c40c84bdfbc45e640854519d5": {
          "model_module": "@jupyter-widgets/controls",
          "model_name": "HTMLModel",
          "model_module_version": "1.5.0",
          "state": {
            "_dom_classes": [],
            "_model_module": "@jupyter-widgets/controls",
            "_model_module_version": "1.5.0",
            "_model_name": "HTMLModel",
            "_view_count": null,
            "_view_module": "@jupyter-widgets/controls",
            "_view_module_version": "1.5.0",
            "_view_name": "HTMLView",
            "description": "",
            "description_tooltip": null,
            "layout": "IPY_MODEL_5a14d6a64a7046eaabec0cd44455f8b0",
            "placeholder": "​",
            "style": "IPY_MODEL_de46cfa138b14237817563147f3ab203",
            "value": " 1.20M/1.20M [00:00&lt;00:00, 24.5MB/s]"
          }
        },
        "e6a6e80c856d408caab1dac465e6eb2a": {
          "model_module": "@jupyter-widgets/base",
          "model_name": "LayoutModel",
          "model_module_version": "1.2.0",
          "state": {
            "_model_module": "@jupyter-widgets/base",
            "_model_module_version": "1.2.0",
            "_model_name": "LayoutModel",
            "_view_count": null,
            "_view_module": "@jupyter-widgets/base",
            "_view_module_version": "1.2.0",
            "_view_name": "LayoutView",
            "align_content": null,
            "align_items": null,
            "align_self": null,
            "border": null,
            "bottom": null,
            "display": null,
            "flex": null,
            "flex_flow": null,
            "grid_area": null,
            "grid_auto_columns": null,
            "grid_auto_flow": null,
            "grid_auto_rows": null,
            "grid_column": null,
            "grid_gap": null,
            "grid_row": null,
            "grid_template_areas": null,
            "grid_template_columns": null,
            "grid_template_rows": null,
            "height": null,
            "justify_content": null,
            "justify_items": null,
            "left": null,
            "margin": null,
            "max_height": null,
            "max_width": null,
            "min_height": null,
            "min_width": null,
            "object_fit": null,
            "object_position": null,
            "order": null,
            "overflow": null,
            "overflow_x": null,
            "overflow_y": null,
            "padding": null,
            "right": null,
            "top": null,
            "visibility": null,
            "width": null
          }
        },
        "8fb0c4b3ee0e4e5894c1f65c553bfd74": {
          "model_module": "@jupyter-widgets/base",
          "model_name": "LayoutModel",
          "model_module_version": "1.2.0",
          "state": {
            "_model_module": "@jupyter-widgets/base",
            "_model_module_version": "1.2.0",
            "_model_name": "LayoutModel",
            "_view_count": null,
            "_view_module": "@jupyter-widgets/base",
            "_view_module_version": "1.2.0",
            "_view_name": "LayoutView",
            "align_content": null,
            "align_items": null,
            "align_self": null,
            "border": null,
            "bottom": null,
            "display": null,
            "flex": null,
            "flex_flow": null,
            "grid_area": null,
            "grid_auto_columns": null,
            "grid_auto_flow": null,
            "grid_auto_rows": null,
            "grid_column": null,
            "grid_gap": null,
            "grid_row": null,
            "grid_template_areas": null,
            "grid_template_columns": null,
            "grid_template_rows": null,
            "height": null,
            "justify_content": null,
            "justify_items": null,
            "left": null,
            "margin": null,
            "max_height": null,
            "max_width": null,
            "min_height": null,
            "min_width": null,
            "object_fit": null,
            "object_position": null,
            "order": null,
            "overflow": null,
            "overflow_x": null,
            "overflow_y": null,
            "padding": null,
            "right": null,
            "top": null,
            "visibility": null,
            "width": null
          }
        },
        "4fd3df36e1764dafa995495dfbeb7c9a": {
          "model_module": "@jupyter-widgets/controls",
          "model_name": "DescriptionStyleModel",
          "model_module_version": "1.5.0",
          "state": {
            "_model_module": "@jupyter-widgets/controls",
            "_model_module_version": "1.5.0",
            "_model_name": "DescriptionStyleModel",
            "_view_count": null,
            "_view_module": "@jupyter-widgets/base",
            "_view_module_version": "1.2.0",
            "_view_name": "StyleView",
            "description_width": ""
          }
        },
        "f4491c8e5d784e218475b0a485f16b0a": {
          "model_module": "@jupyter-widgets/base",
          "model_name": "LayoutModel",
          "model_module_version": "1.2.0",
          "state": {
            "_model_module": "@jupyter-widgets/base",
            "_model_module_version": "1.2.0",
            "_model_name": "LayoutModel",
            "_view_count": null,
            "_view_module": "@jupyter-widgets/base",
            "_view_module_version": "1.2.0",
            "_view_name": "LayoutView",
            "align_content": null,
            "align_items": null,
            "align_self": null,
            "border": null,
            "bottom": null,
            "display": null,
            "flex": null,
            "flex_flow": null,
            "grid_area": null,
            "grid_auto_columns": null,
            "grid_auto_flow": null,
            "grid_auto_rows": null,
            "grid_column": null,
            "grid_gap": null,
            "grid_row": null,
            "grid_template_areas": null,
            "grid_template_columns": null,
            "grid_template_rows": null,
            "height": null,
            "justify_content": null,
            "justify_items": null,
            "left": null,
            "margin": null,
            "max_height": null,
            "max_width": null,
            "min_height": null,
            "min_width": null,
            "object_fit": null,
            "object_position": null,
            "order": null,
            "overflow": null,
            "overflow_x": null,
            "overflow_y": null,
            "padding": null,
            "right": null,
            "top": null,
            "visibility": null,
            "width": null
          }
        },
        "777dc2b1a59348a5b26dc3e4790720a8": {
          "model_module": "@jupyter-widgets/controls",
          "model_name": "ProgressStyleModel",
          "model_module_version": "1.5.0",
          "state": {
            "_model_module": "@jupyter-widgets/controls",
            "_model_module_version": "1.5.0",
            "_model_name": "ProgressStyleModel",
            "_view_count": null,
            "_view_module": "@jupyter-widgets/base",
            "_view_module_version": "1.2.0",
            "_view_name": "StyleView",
            "bar_color": null,
            "description_width": ""
          }
        },
        "5a14d6a64a7046eaabec0cd44455f8b0": {
          "model_module": "@jupyter-widgets/base",
          "model_name": "LayoutModel",
          "model_module_version": "1.2.0",
          "state": {
            "_model_module": "@jupyter-widgets/base",
            "_model_module_version": "1.2.0",
            "_model_name": "LayoutModel",
            "_view_count": null,
            "_view_module": "@jupyter-widgets/base",
            "_view_module_version": "1.2.0",
            "_view_name": "LayoutView",
            "align_content": null,
            "align_items": null,
            "align_self": null,
            "border": null,
            "bottom": null,
            "display": null,
            "flex": null,
            "flex_flow": null,
            "grid_area": null,
            "grid_auto_columns": null,
            "grid_auto_flow": null,
            "grid_auto_rows": null,
            "grid_column": null,
            "grid_gap": null,
            "grid_row": null,
            "grid_template_areas": null,
            "grid_template_columns": null,
            "grid_template_rows": null,
            "height": null,
            "justify_content": null,
            "justify_items": null,
            "left": null,
            "margin": null,
            "max_height": null,
            "max_width": null,
            "min_height": null,
            "min_width": null,
            "object_fit": null,
            "object_position": null,
            "order": null,
            "overflow": null,
            "overflow_x": null,
            "overflow_y": null,
            "padding": null,
            "right": null,
            "top": null,
            "visibility": null,
            "width": null
          }
        },
        "de46cfa138b14237817563147f3ab203": {
          "model_module": "@jupyter-widgets/controls",
          "model_name": "DescriptionStyleModel",
          "model_module_version": "1.5.0",
          "state": {
            "_model_module": "@jupyter-widgets/controls",
            "_model_module_version": "1.5.0",
            "_model_name": "DescriptionStyleModel",
            "_view_count": null,
            "_view_module": "@jupyter-widgets/base",
            "_view_module_version": "1.2.0",
            "_view_name": "StyleView",
            "description_width": ""
          }
        },
        "9e605a917a0e470a90eca52097c9e73e": {
          "model_module": "@jupyter-widgets/controls",
          "model_name": "HBoxModel",
          "model_module_version": "1.5.0",
          "state": {
            "_dom_classes": [],
            "_model_module": "@jupyter-widgets/controls",
            "_model_module_version": "1.5.0",
            "_model_name": "HBoxModel",
            "_view_count": null,
            "_view_module": "@jupyter-widgets/controls",
            "_view_module_version": "1.5.0",
            "_view_name": "HBoxView",
            "box_style": "",
            "children": [
              "IPY_MODEL_9fd23d78833c4be38a697f9c9c76b42c",
              "IPY_MODEL_7d80553de6af45e385ddedc37fd0afa4",
              "IPY_MODEL_9f4765e9bf9348528c2770da0e0b9e9d"
            ],
            "layout": "IPY_MODEL_a3875df5315045f8940aa40ed9582b25"
          }
        },
        "9fd23d78833c4be38a697f9c9c76b42c": {
          "model_module": "@jupyter-widgets/controls",
          "model_name": "HTMLModel",
          "model_module_version": "1.5.0",
          "state": {
            "_dom_classes": [],
            "_model_module": "@jupyter-widgets/controls",
            "_model_module_version": "1.5.0",
            "_model_name": "HTMLModel",
            "_view_count": null,
            "_view_module": "@jupyter-widgets/controls",
            "_view_module_version": "1.5.0",
            "_view_name": "HTMLView",
            "description": "",
            "description_tooltip": null,
            "layout": "IPY_MODEL_64fa09e4494d4662959e0ba1fba8399e",
            "placeholder": "​",
            "style": "IPY_MODEL_4b708579ca6d449b891cb54c161c3e61",
            "value": "Downloading (…)lve/main/config.json: 100%"
          }
        },
        "7d80553de6af45e385ddedc37fd0afa4": {
          "model_module": "@jupyter-widgets/controls",
          "model_name": "FloatProgressModel",
          "model_module_version": "1.5.0",
          "state": {
            "_dom_classes": [],
            "_model_module": "@jupyter-widgets/controls",
            "_model_module_version": "1.5.0",
            "_model_name": "FloatProgressModel",
            "_view_count": null,
            "_view_module": "@jupyter-widgets/controls",
            "_view_module_version": "1.5.0",
            "_view_name": "ProgressView",
            "bar_style": "success",
            "description": "",
            "description_tooltip": null,
            "layout": "IPY_MODEL_36ab93659ef64b48895db8283a89c431",
            "max": 440,
            "min": 0,
            "orientation": "horizontal",
            "style": "IPY_MODEL_f519f7208acb465f9e63fd7f0d0e3377",
            "value": 440
          }
        },
        "9f4765e9bf9348528c2770da0e0b9e9d": {
          "model_module": "@jupyter-widgets/controls",
          "model_name": "HTMLModel",
          "model_module_version": "1.5.0",
          "state": {
            "_dom_classes": [],
            "_model_module": "@jupyter-widgets/controls",
            "_model_module_version": "1.5.0",
            "_model_name": "HTMLModel",
            "_view_count": null,
            "_view_module": "@jupyter-widgets/controls",
            "_view_module_version": "1.5.0",
            "_view_name": "HTMLView",
            "description": "",
            "description_tooltip": null,
            "layout": "IPY_MODEL_6b6c2877cd23422b8403aa8c789e842d",
            "placeholder": "​",
            "style": "IPY_MODEL_d8686c9567144de4ae112138a245d045",
            "value": " 440/440 [00:00&lt;00:00, 15.8kB/s]"
          }
        },
        "a3875df5315045f8940aa40ed9582b25": {
          "model_module": "@jupyter-widgets/base",
          "model_name": "LayoutModel",
          "model_module_version": "1.2.0",
          "state": {
            "_model_module": "@jupyter-widgets/base",
            "_model_module_version": "1.2.0",
            "_model_name": "LayoutModel",
            "_view_count": null,
            "_view_module": "@jupyter-widgets/base",
            "_view_module_version": "1.2.0",
            "_view_name": "LayoutView",
            "align_content": null,
            "align_items": null,
            "align_self": null,
            "border": null,
            "bottom": null,
            "display": null,
            "flex": null,
            "flex_flow": null,
            "grid_area": null,
            "grid_auto_columns": null,
            "grid_auto_flow": null,
            "grid_auto_rows": null,
            "grid_column": null,
            "grid_gap": null,
            "grid_row": null,
            "grid_template_areas": null,
            "grid_template_columns": null,
            "grid_template_rows": null,
            "height": null,
            "justify_content": null,
            "justify_items": null,
            "left": null,
            "margin": null,
            "max_height": null,
            "max_width": null,
            "min_height": null,
            "min_width": null,
            "object_fit": null,
            "object_position": null,
            "order": null,
            "overflow": null,
            "overflow_x": null,
            "overflow_y": null,
            "padding": null,
            "right": null,
            "top": null,
            "visibility": null,
            "width": null
          }
        },
        "64fa09e4494d4662959e0ba1fba8399e": {
          "model_module": "@jupyter-widgets/base",
          "model_name": "LayoutModel",
          "model_module_version": "1.2.0",
          "state": {
            "_model_module": "@jupyter-widgets/base",
            "_model_module_version": "1.2.0",
            "_model_name": "LayoutModel",
            "_view_count": null,
            "_view_module": "@jupyter-widgets/base",
            "_view_module_version": "1.2.0",
            "_view_name": "LayoutView",
            "align_content": null,
            "align_items": null,
            "align_self": null,
            "border": null,
            "bottom": null,
            "display": null,
            "flex": null,
            "flex_flow": null,
            "grid_area": null,
            "grid_auto_columns": null,
            "grid_auto_flow": null,
            "grid_auto_rows": null,
            "grid_column": null,
            "grid_gap": null,
            "grid_row": null,
            "grid_template_areas": null,
            "grid_template_columns": null,
            "grid_template_rows": null,
            "height": null,
            "justify_content": null,
            "justify_items": null,
            "left": null,
            "margin": null,
            "max_height": null,
            "max_width": null,
            "min_height": null,
            "min_width": null,
            "object_fit": null,
            "object_position": null,
            "order": null,
            "overflow": null,
            "overflow_x": null,
            "overflow_y": null,
            "padding": null,
            "right": null,
            "top": null,
            "visibility": null,
            "width": null
          }
        },
        "4b708579ca6d449b891cb54c161c3e61": {
          "model_module": "@jupyter-widgets/controls",
          "model_name": "DescriptionStyleModel",
          "model_module_version": "1.5.0",
          "state": {
            "_model_module": "@jupyter-widgets/controls",
            "_model_module_version": "1.5.0",
            "_model_name": "DescriptionStyleModel",
            "_view_count": null,
            "_view_module": "@jupyter-widgets/base",
            "_view_module_version": "1.2.0",
            "_view_name": "StyleView",
            "description_width": ""
          }
        },
        "36ab93659ef64b48895db8283a89c431": {
          "model_module": "@jupyter-widgets/base",
          "model_name": "LayoutModel",
          "model_module_version": "1.2.0",
          "state": {
            "_model_module": "@jupyter-widgets/base",
            "_model_module_version": "1.2.0",
            "_model_name": "LayoutModel",
            "_view_count": null,
            "_view_module": "@jupyter-widgets/base",
            "_view_module_version": "1.2.0",
            "_view_name": "LayoutView",
            "align_content": null,
            "align_items": null,
            "align_self": null,
            "border": null,
            "bottom": null,
            "display": null,
            "flex": null,
            "flex_flow": null,
            "grid_area": null,
            "grid_auto_columns": null,
            "grid_auto_flow": null,
            "grid_auto_rows": null,
            "grid_column": null,
            "grid_gap": null,
            "grid_row": null,
            "grid_template_areas": null,
            "grid_template_columns": null,
            "grid_template_rows": null,
            "height": null,
            "justify_content": null,
            "justify_items": null,
            "left": null,
            "margin": null,
            "max_height": null,
            "max_width": null,
            "min_height": null,
            "min_width": null,
            "object_fit": null,
            "object_position": null,
            "order": null,
            "overflow": null,
            "overflow_x": null,
            "overflow_y": null,
            "padding": null,
            "right": null,
            "top": null,
            "visibility": null,
            "width": null
          }
        },
        "f519f7208acb465f9e63fd7f0d0e3377": {
          "model_module": "@jupyter-widgets/controls",
          "model_name": "ProgressStyleModel",
          "model_module_version": "1.5.0",
          "state": {
            "_model_module": "@jupyter-widgets/controls",
            "_model_module_version": "1.5.0",
            "_model_name": "ProgressStyleModel",
            "_view_count": null,
            "_view_module": "@jupyter-widgets/base",
            "_view_module_version": "1.2.0",
            "_view_name": "StyleView",
            "bar_color": null,
            "description_width": ""
          }
        },
        "6b6c2877cd23422b8403aa8c789e842d": {
          "model_module": "@jupyter-widgets/base",
          "model_name": "LayoutModel",
          "model_module_version": "1.2.0",
          "state": {
            "_model_module": "@jupyter-widgets/base",
            "_model_module_version": "1.2.0",
            "_model_name": "LayoutModel",
            "_view_count": null,
            "_view_module": "@jupyter-widgets/base",
            "_view_module_version": "1.2.0",
            "_view_name": "LayoutView",
            "align_content": null,
            "align_items": null,
            "align_self": null,
            "border": null,
            "bottom": null,
            "display": null,
            "flex": null,
            "flex_flow": null,
            "grid_area": null,
            "grid_auto_columns": null,
            "grid_auto_flow": null,
            "grid_auto_rows": null,
            "grid_column": null,
            "grid_gap": null,
            "grid_row": null,
            "grid_template_areas": null,
            "grid_template_columns": null,
            "grid_template_rows": null,
            "height": null,
            "justify_content": null,
            "justify_items": null,
            "left": null,
            "margin": null,
            "max_height": null,
            "max_width": null,
            "min_height": null,
            "min_width": null,
            "object_fit": null,
            "object_position": null,
            "order": null,
            "overflow": null,
            "overflow_x": null,
            "overflow_y": null,
            "padding": null,
            "right": null,
            "top": null,
            "visibility": null,
            "width": null
          }
        },
        "d8686c9567144de4ae112138a245d045": {
          "model_module": "@jupyter-widgets/controls",
          "model_name": "DescriptionStyleModel",
          "model_module_version": "1.5.0",
          "state": {
            "_model_module": "@jupyter-widgets/controls",
            "_model_module_version": "1.5.0",
            "_model_name": "DescriptionStyleModel",
            "_view_count": null,
            "_view_module": "@jupyter-widgets/base",
            "_view_module_version": "1.2.0",
            "_view_name": "StyleView",
            "description_width": ""
          }
        },
        "8cae5ec384e74da4b09535100c5d6afe": {
          "model_module": "@jupyter-widgets/controls",
          "model_name": "HBoxModel",
          "model_module_version": "1.5.0",
          "state": {
            "_dom_classes": [],
            "_model_module": "@jupyter-widgets/controls",
            "_model_module_version": "1.5.0",
            "_model_name": "HBoxModel",
            "_view_count": null,
            "_view_module": "@jupyter-widgets/controls",
            "_view_module_version": "1.5.0",
            "_view_name": "HBoxView",
            "box_style": "",
            "children": [
              "IPY_MODEL_425eb2c838274f5db801e8f30276b656",
              "IPY_MODEL_eaf293bf4f1f404b957e3d55ef46daaa",
              "IPY_MODEL_7fafb64ea9834381ae8f85c578123dba"
            ],
            "layout": "IPY_MODEL_5f56f71c2d994a46ad05c74e828da192"
          }
        },
        "425eb2c838274f5db801e8f30276b656": {
          "model_module": "@jupyter-widgets/controls",
          "model_name": "HTMLModel",
          "model_module_version": "1.5.0",
          "state": {
            "_dom_classes": [],
            "_model_module": "@jupyter-widgets/controls",
            "_model_module_version": "1.5.0",
            "_model_name": "HTMLModel",
            "_view_count": null,
            "_view_module": "@jupyter-widgets/controls",
            "_view_module_version": "1.5.0",
            "_view_name": "HTMLView",
            "description": "",
            "description_tooltip": null,
            "layout": "IPY_MODEL_727b422a0623448c8848dc9f2f8e559b",
            "placeholder": "​",
            "style": "IPY_MODEL_038aa885749d49488bbf77548694b10b",
            "value": "Downloading (…)&quot;tf_model.h5&quot;;: 100%"
          }
        },
        "eaf293bf4f1f404b957e3d55ef46daaa": {
          "model_module": "@jupyter-widgets/controls",
          "model_name": "FloatProgressModel",
          "model_module_version": "1.5.0",
          "state": {
            "_dom_classes": [],
            "_model_module": "@jupyter-widgets/controls",
            "_model_module_version": "1.5.0",
            "_model_name": "FloatProgressModel",
            "_view_count": null,
            "_view_module": "@jupyter-widgets/controls",
            "_view_module_version": "1.5.0",
            "_view_name": "ProgressView",
            "bar_style": "success",
            "description": "",
            "description_tooltip": null,
            "layout": "IPY_MODEL_7a3df4d66c2f4bf1ac5a4a91b5a4fcde",
            "max": 963211760,
            "min": 0,
            "orientation": "horizontal",
            "style": "IPY_MODEL_39115a9c9c4546bcb6e011a598d2b550",
            "value": 963211760
          }
        },
        "7fafb64ea9834381ae8f85c578123dba": {
          "model_module": "@jupyter-widgets/controls",
          "model_name": "HTMLModel",
          "model_module_version": "1.5.0",
          "state": {
            "_dom_classes": [],
            "_model_module": "@jupyter-widgets/controls",
            "_model_module_version": "1.5.0",
            "_model_name": "HTMLModel",
            "_view_count": null,
            "_view_module": "@jupyter-widgets/controls",
            "_view_module_version": "1.5.0",
            "_view_name": "HTMLView",
            "description": "",
            "description_tooltip": null,
            "layout": "IPY_MODEL_ffcf11f9ca81402fb4d7f3c69ac2f69a",
            "placeholder": "​",
            "style": "IPY_MODEL_4dadc85daeac4d23894b782669f6b895",
            "value": " 963M/963M [00:05&lt;00:00, 210MB/s]"
          }
        },
        "5f56f71c2d994a46ad05c74e828da192": {
          "model_module": "@jupyter-widgets/base",
          "model_name": "LayoutModel",
          "model_module_version": "1.2.0",
          "state": {
            "_model_module": "@jupyter-widgets/base",
            "_model_module_version": "1.2.0",
            "_model_name": "LayoutModel",
            "_view_count": null,
            "_view_module": "@jupyter-widgets/base",
            "_view_module_version": "1.2.0",
            "_view_name": "LayoutView",
            "align_content": null,
            "align_items": null,
            "align_self": null,
            "border": null,
            "bottom": null,
            "display": null,
            "flex": null,
            "flex_flow": null,
            "grid_area": null,
            "grid_auto_columns": null,
            "grid_auto_flow": null,
            "grid_auto_rows": null,
            "grid_column": null,
            "grid_gap": null,
            "grid_row": null,
            "grid_template_areas": null,
            "grid_template_columns": null,
            "grid_template_rows": null,
            "height": null,
            "justify_content": null,
            "justify_items": null,
            "left": null,
            "margin": null,
            "max_height": null,
            "max_width": null,
            "min_height": null,
            "min_width": null,
            "object_fit": null,
            "object_position": null,
            "order": null,
            "overflow": null,
            "overflow_x": null,
            "overflow_y": null,
            "padding": null,
            "right": null,
            "top": null,
            "visibility": null,
            "width": null
          }
        },
        "727b422a0623448c8848dc9f2f8e559b": {
          "model_module": "@jupyter-widgets/base",
          "model_name": "LayoutModel",
          "model_module_version": "1.2.0",
          "state": {
            "_model_module": "@jupyter-widgets/base",
            "_model_module_version": "1.2.0",
            "_model_name": "LayoutModel",
            "_view_count": null,
            "_view_module": "@jupyter-widgets/base",
            "_view_module_version": "1.2.0",
            "_view_name": "LayoutView",
            "align_content": null,
            "align_items": null,
            "align_self": null,
            "border": null,
            "bottom": null,
            "display": null,
            "flex": null,
            "flex_flow": null,
            "grid_area": null,
            "grid_auto_columns": null,
            "grid_auto_flow": null,
            "grid_auto_rows": null,
            "grid_column": null,
            "grid_gap": null,
            "grid_row": null,
            "grid_template_areas": null,
            "grid_template_columns": null,
            "grid_template_rows": null,
            "height": null,
            "justify_content": null,
            "justify_items": null,
            "left": null,
            "margin": null,
            "max_height": null,
            "max_width": null,
            "min_height": null,
            "min_width": null,
            "object_fit": null,
            "object_position": null,
            "order": null,
            "overflow": null,
            "overflow_x": null,
            "overflow_y": null,
            "padding": null,
            "right": null,
            "top": null,
            "visibility": null,
            "width": null
          }
        },
        "038aa885749d49488bbf77548694b10b": {
          "model_module": "@jupyter-widgets/controls",
          "model_name": "DescriptionStyleModel",
          "model_module_version": "1.5.0",
          "state": {
            "_model_module": "@jupyter-widgets/controls",
            "_model_module_version": "1.5.0",
            "_model_name": "DescriptionStyleModel",
            "_view_count": null,
            "_view_module": "@jupyter-widgets/base",
            "_view_module_version": "1.2.0",
            "_view_name": "StyleView",
            "description_width": ""
          }
        },
        "7a3df4d66c2f4bf1ac5a4a91b5a4fcde": {
          "model_module": "@jupyter-widgets/base",
          "model_name": "LayoutModel",
          "model_module_version": "1.2.0",
          "state": {
            "_model_module": "@jupyter-widgets/base",
            "_model_module_version": "1.2.0",
            "_model_name": "LayoutModel",
            "_view_count": null,
            "_view_module": "@jupyter-widgets/base",
            "_view_module_version": "1.2.0",
            "_view_name": "LayoutView",
            "align_content": null,
            "align_items": null,
            "align_self": null,
            "border": null,
            "bottom": null,
            "display": null,
            "flex": null,
            "flex_flow": null,
            "grid_area": null,
            "grid_auto_columns": null,
            "grid_auto_flow": null,
            "grid_auto_rows": null,
            "grid_column": null,
            "grid_gap": null,
            "grid_row": null,
            "grid_template_areas": null,
            "grid_template_columns": null,
            "grid_template_rows": null,
            "height": null,
            "justify_content": null,
            "justify_items": null,
            "left": null,
            "margin": null,
            "max_height": null,
            "max_width": null,
            "min_height": null,
            "min_width": null,
            "object_fit": null,
            "object_position": null,
            "order": null,
            "overflow": null,
            "overflow_x": null,
            "overflow_y": null,
            "padding": null,
            "right": null,
            "top": null,
            "visibility": null,
            "width": null
          }
        },
        "39115a9c9c4546bcb6e011a598d2b550": {
          "model_module": "@jupyter-widgets/controls",
          "model_name": "ProgressStyleModel",
          "model_module_version": "1.5.0",
          "state": {
            "_model_module": "@jupyter-widgets/controls",
            "_model_module_version": "1.5.0",
            "_model_name": "ProgressStyleModel",
            "_view_count": null,
            "_view_module": "@jupyter-widgets/base",
            "_view_module_version": "1.2.0",
            "_view_name": "StyleView",
            "bar_color": null,
            "description_width": ""
          }
        },
        "ffcf11f9ca81402fb4d7f3c69ac2f69a": {
          "model_module": "@jupyter-widgets/base",
          "model_name": "LayoutModel",
          "model_module_version": "1.2.0",
          "state": {
            "_model_module": "@jupyter-widgets/base",
            "_model_module_version": "1.2.0",
            "_model_name": "LayoutModel",
            "_view_count": null,
            "_view_module": "@jupyter-widgets/base",
            "_view_module_version": "1.2.0",
            "_view_name": "LayoutView",
            "align_content": null,
            "align_items": null,
            "align_self": null,
            "border": null,
            "bottom": null,
            "display": null,
            "flex": null,
            "flex_flow": null,
            "grid_area": null,
            "grid_auto_columns": null,
            "grid_auto_flow": null,
            "grid_auto_rows": null,
            "grid_column": null,
            "grid_gap": null,
            "grid_row": null,
            "grid_template_areas": null,
            "grid_template_columns": null,
            "grid_template_rows": null,
            "height": null,
            "justify_content": null,
            "justify_items": null,
            "left": null,
            "margin": null,
            "max_height": null,
            "max_width": null,
            "min_height": null,
            "min_width": null,
            "object_fit": null,
            "object_position": null,
            "order": null,
            "overflow": null,
            "overflow_x": null,
            "overflow_y": null,
            "padding": null,
            "right": null,
            "top": null,
            "visibility": null,
            "width": null
          }
        },
        "4dadc85daeac4d23894b782669f6b895": {
          "model_module": "@jupyter-widgets/controls",
          "model_name": "DescriptionStyleModel",
          "model_module_version": "1.5.0",
          "state": {
            "_model_module": "@jupyter-widgets/controls",
            "_model_module_version": "1.5.0",
            "_model_name": "DescriptionStyleModel",
            "_view_count": null,
            "_view_module": "@jupyter-widgets/base",
            "_view_module_version": "1.2.0",
            "_view_name": "StyleView",
            "description_width": ""
          }
        }
      }
    }
  },
  "cells": [
    {
      "cell_type": "markdown",
      "source": [
        "# Install & Import Libraroes"
      ],
      "metadata": {
        "id": "hPX4PvKiC4mI"
      }
    },
    {
      "cell_type": "code",
      "source": [
        "!pip install -q transformers\n",
        "!pip install -q hazm\n",
        "!pip install -q clean-text[gpl]"
      ],
      "metadata": {
        "id": "sJN4pnj5WbOt",
        "colab": {
          "base_uri": "https://localhost:8080/"
        },
        "outputId": "3585cf44-5ad7-461d-f23f-0baa267d9605"
      },
      "execution_count": 1,
      "outputs": [
        {
          "output_type": "stream",
          "name": "stdout",
          "text": [
            "\u001b[2K     \u001b[90m━━━━━━━━━━━━━━━━━━━━━━━━━━━━━━━━━━━━━━━━\u001b[0m \u001b[32m6.3/6.3 MB\u001b[0m \u001b[31m56.8 MB/s\u001b[0m eta \u001b[36m0:00:00\u001b[0m\n",
            "\u001b[2K     \u001b[90m━━━━━━━━━━━━━━━━━━━━━━━━━━━━━━━━━━━━━━━━\u001b[0m \u001b[32m7.6/7.6 MB\u001b[0m \u001b[31m66.6 MB/s\u001b[0m eta \u001b[36m0:00:00\u001b[0m\n",
            "\u001b[2K     \u001b[90m━━━━━━━━━━━━━━━━━━━━━━━━━━━━━━━━━━━━━━\u001b[0m \u001b[32m190.3/190.3 KB\u001b[0m \u001b[31m16.7 MB/s\u001b[0m eta \u001b[36m0:00:00\u001b[0m\n",
            "\u001b[2K     \u001b[90m━━━━━━━━━━━━━━━━━━━━━━━━━━━━━━━━━━━━━━━\u001b[0m \u001b[32m316.7/316.7 KB\u001b[0m \u001b[31m6.5 MB/s\u001b[0m eta \u001b[36m0:00:00\u001b[0m\n",
            "\u001b[2K     \u001b[90m━━━━━━━━━━━━━━━━━━━━━━━━━━━━━━━━━━━━━━\u001b[0m \u001b[32m233.6/233.6 KB\u001b[0m \u001b[31m11.7 MB/s\u001b[0m eta \u001b[36m0:00:00\u001b[0m\n",
            "\u001b[?25h  Preparing metadata (setup.py) ... \u001b[?25l\u001b[?25hdone\n",
            "\u001b[2K     \u001b[90m━━━━━━━━━━━━━━━━━━━━━━━━━━━━━━━━━━━━━━━━\u001b[0m \u001b[32m1.4/1.4 MB\u001b[0m \u001b[31m29.0 MB/s\u001b[0m eta \u001b[36m0:00:00\u001b[0m\n",
            "\u001b[?25h  Preparing metadata (setup.py) ... \u001b[?25l\u001b[?25hdone\n",
            "  Building wheel for nltk (setup.py) ... \u001b[?25l\u001b[?25hdone\n",
            "  Building wheel for libwapiti (setup.py) ... \u001b[?25l\u001b[?25hdone\n",
            "\u001b[2K     \u001b[90m━━━━━━━━━━━━━━━━━━━━━━━━━━━━━━━━━━━━━━━━\u001b[0m \u001b[32m53.1/53.1 KB\u001b[0m \u001b[31m6.3 MB/s\u001b[0m eta \u001b[36m0:00:00\u001b[0m\n",
            "\u001b[2K     \u001b[90m━━━━━━━━━━━━━━━━━━━━━━━━━━━━━━━━━━━━━━\u001b[0m \u001b[32m175.4/175.4 KB\u001b[0m \u001b[31m17.7 MB/s\u001b[0m eta \u001b[36m0:00:00\u001b[0m\n",
            "\u001b[?25h  Preparing metadata (setup.py) ... \u001b[?25l\u001b[?25hdone\n",
            "\u001b[2K     \u001b[90m━━━━━━━━━━━━━━━━━━━━━━━━━━━━━━━━━━━━━━\u001b[0m \u001b[32m235.9/235.9 KB\u001b[0m \u001b[31m23.8 MB/s\u001b[0m eta \u001b[36m0:00:00\u001b[0m\n",
            "\u001b[?25h  Building wheel for emoji (setup.py) ... \u001b[?25l\u001b[?25hdone\n"
          ]
        }
      ]
    },
    {
      "cell_type": "code",
      "execution_count": 2,
      "metadata": {
        "id": "rTEWI_XRNBu8"
      },
      "outputs": [],
      "source": [
        "import os\n",
        "import re\n",
        "import json\n",
        "import copy\n",
        "import collections\n",
        "\n",
        "import numpy as np\n",
        "import pandas as pd\n",
        "\n",
        "from sklearn.utils import shuffle\n",
        "from sklearn.model_selection import train_test_split\n",
        "from sklearn.metrics import classification_report\n",
        "from sklearn.metrics import f1_score\n",
        "\n",
        "import hazm\n",
        "from cleantext import clean\n",
        "\n",
        "import plotly.express as px\n",
        "import plotly.graph_objects as go\n",
        "\n",
        "from tqdm import tqdm\n",
        "\n",
        "from transformers import BertConfig, BertTokenizer\n",
        "from transformers import TFBertModel, TFBertForSequenceClassification\n",
        "from transformers import glue_convert_examples_to_features\n",
        "import tensorflow as tf\n",
        "\n",
        "from sklearn import metrics\n",
        "import matplotlib.pyplot as plt\n",
        "from sklearn.metrics import f1_score"
      ]
    },
    {
      "cell_type": "markdown",
      "source": [
        "# Download & Import Dataset"
      ],
      "metadata": {
        "id": "MvaEQld0Db8P"
      }
    },
    {
      "cell_type": "code",
      "source": [
        "class PoemsDataset():\n",
        "\n",
        "    def __init__(self, num_poems=10000, download=True):\n",
        "        if download:\n",
        "            !git clone https://github.com/amnghd/Persian_poems_corpus.git\n",
        "\n",
        "        self.poets = ['moulavi', 'anvari', 'attar', 'saadi', 'bahar', \n",
        "                      'farrokhi', 'ferdousi', 'sanaee', 'jami', 'khosro']\n",
        "\n",
        "        self.label2id = {label: i for i, label in enumerate(self.poets)}\n",
        "        self.id2label = {v: k for k, v in self.label2id.items()}\n",
        "\n",
        "        paths_origin = ['Persian_poems_corpus/original/' + poet + '.txt' for poet in self.poets]\n",
        "        paths_norm = ['Persian_poems_corpus/normalized/' + poet + '_norm.txt' for poet in self.poets]\n",
        "        self.path = {'origin': paths_origin, 'norm': paths_norm}\n",
        "\n",
        "        self.x_train = []\n",
        "        self.y_train = []\n",
        "        self.x_val = []\n",
        "        self.y_val = []\n",
        "        self.x_test = []\n",
        "        self.y_test = []\n",
        "\n",
        "        self.num_poems = num_poems\n",
        "        num_train = int(self.num_poems * 0.7)\n",
        "        num_test = int(self.num_poems * 0.2)\n",
        "        num_val = self.num_poems - num_train - num_test\n",
        "\n",
        "        for i, poet in tqdm(enumerate(self.poets)):\n",
        "            with open(self.path['norm'][i]) as f:\n",
        "                for j, line in enumerate(f):\n",
        "                    if j > self.num_poems:\n",
        "                        break\n",
        "                    if j > 1 and line != '\\n':\n",
        "                        if j <= num_train:\n",
        "                            self.x_train.append(line)\n",
        "                            self.y_train.append(self.label2id[poet])\n",
        "                        elif num_train < j <= num_train + num_val:\n",
        "                            self.x_val.append(line)\n",
        "                            self.y_val.append(self.label2id[poet])\n",
        "                        else:\n",
        "                            self.x_test.append(line)\n",
        "                            self.y_test.append(self.label2id[poet])\n",
        "\n",
        "    def get_train_val_test(self):\n",
        "        return self.x_train, self.y_train, self.x_val, self.y_val, self.x_test, self.y_test\n",
        "    \n",
        "    def count_class(self, labels):\n",
        "        counter = np.zeros((len(self.poets,)))\n",
        "        for i in self.label2id.values():\n",
        "            counter[i] = sum(np.array(labels) == i)\n",
        "        return counter\n",
        "\n",
        "    def show_dataset_details(self):\n",
        "        train_length = len(self.y_train)\n",
        "        train_counter = self.count_class(self.y_train)\n",
        "\n",
        "        val_length = len(self.y_val)\n",
        "        val_counter = self.count_class(self.y_val)\n",
        "\n",
        "        test_length = len(self.y_test)\n",
        "        test_counter = self.count_class(self.y_test)\n",
        "\n",
        "        print(f'train length = {train_length}:\\t{train_counter}')\n",
        "        print(f'val length = {val_length}:\\t{val_counter}')\n",
        "        print(f'test length = {test_length}:\\t{test_counter}')"
      ],
      "metadata": {
        "id": "MbLh5xRODo7-"
      },
      "execution_count": 3,
      "outputs": []
    },
    {
      "cell_type": "code",
      "source": [
        "data = PoemsDataset(num_poems=1000)"
      ],
      "metadata": {
        "colab": {
          "base_uri": "https://localhost:8080/"
        },
        "id": "cceb6_boHpNG",
        "outputId": "ed009959-6eed-473a-dc06-02b483ed091a"
      },
      "execution_count": 4,
      "outputs": [
        {
          "output_type": "stream",
          "name": "stdout",
          "text": [
            "Cloning into 'Persian_poems_corpus'...\n",
            "remote: Enumerating objects: 159, done.\u001b[K\n",
            "remote: Total 159 (delta 0), reused 0 (delta 0), pack-reused 159\u001b[K\n",
            "Receiving objects: 100% (159/159), 45.21 MiB | 14.90 MiB/s, done.\n",
            "Resolving deltas: 100% (3/3), done.\n"
          ]
        },
        {
          "output_type": "stream",
          "name": "stderr",
          "text": [
            "10it [00:00, 929.36it/s]\n"
          ]
        }
      ]
    },
    {
      "cell_type": "code",
      "source": [
        "data.show_dataset_details()"
      ],
      "metadata": {
        "colab": {
          "base_uri": "https://localhost:8080/"
        },
        "id": "pxmlPChWSori",
        "outputId": "a03b069f-f42e-4440-eefc-27d201fa3c0f"
      },
      "execution_count": 5,
      "outputs": [
        {
          "output_type": "stream",
          "name": "stdout",
          "text": [
            "train length = 6988:\t[699. 699. 699. 699. 697. 699. 699. 699. 699. 699.]\n",
            "val length = 1000:\t[100. 100. 100. 100. 100. 100. 100. 100. 100. 100.]\n",
            "test length = 2000:\t[200. 200. 200. 200. 200. 200. 200. 200. 200. 200.]\n"
          ]
        }
      ]
    },
    {
      "cell_type": "code",
      "source": [
        "x_train, y_train, x_val, y_val, x_test, y_test = data.get_train_val_test()"
      ],
      "metadata": {
        "id": "MZRd7VoZjMnU"
      },
      "execution_count": 6,
      "outputs": []
    },
    {
      "cell_type": "markdown",
      "source": [
        "# Prepare Data for Train"
      ],
      "metadata": {
        "id": "FRHo4wpbZ6hU"
      }
    },
    {
      "cell_type": "code",
      "source": [
        "max_length = 128\n",
        "batch_size = 64\n",
        "epochs = 1\n",
        "lr = 2e-5\n",
        "pre_trained_model_name = 'HooshvareLab/bert-fa-base-uncased'\n",
        "\n",
        "tokenizer = BertTokenizer.from_pretrained(pre_trained_model_name)\n",
        "\n",
        "config = BertConfig.from_pretrained( pre_trained_model_name,\n",
        "                        **{'label2id': data.label2id, 'id2label': data.id2label})"
      ],
      "metadata": {
        "id": "jL8Uwf5KhdLN",
        "colab": {
          "base_uri": "https://localhost:8080/",
          "height": 81,
          "referenced_widgets": [
            "2513fb4d661f42b59340f6622817912c",
            "5b1709b8f7bd4a2bbc9d512abe187878",
            "9e4b7f22adde40b88bdc87a01371201f",
            "a497812c40c84bdfbc45e640854519d5",
            "e6a6e80c856d408caab1dac465e6eb2a",
            "8fb0c4b3ee0e4e5894c1f65c553bfd74",
            "4fd3df36e1764dafa995495dfbeb7c9a",
            "f4491c8e5d784e218475b0a485f16b0a",
            "777dc2b1a59348a5b26dc3e4790720a8",
            "5a14d6a64a7046eaabec0cd44455f8b0",
            "de46cfa138b14237817563147f3ab203",
            "9e605a917a0e470a90eca52097c9e73e",
            "9fd23d78833c4be38a697f9c9c76b42c",
            "7d80553de6af45e385ddedc37fd0afa4",
            "9f4765e9bf9348528c2770da0e0b9e9d",
            "a3875df5315045f8940aa40ed9582b25",
            "64fa09e4494d4662959e0ba1fba8399e",
            "4b708579ca6d449b891cb54c161c3e61",
            "36ab93659ef64b48895db8283a89c431",
            "f519f7208acb465f9e63fd7f0d0e3377",
            "6b6c2877cd23422b8403aa8c789e842d",
            "d8686c9567144de4ae112138a245d045"
          ]
        },
        "outputId": "97c712eb-9daf-4576-8793-7385fc0fe8f6"
      },
      "execution_count": 7,
      "outputs": [
        {
          "output_type": "display_data",
          "data": {
            "text/plain": [
              "Downloading (…)solve/main/vocab.txt:   0%|          | 0.00/1.20M [00:00<?, ?B/s]"
            ],
            "application/vnd.jupyter.widget-view+json": {
              "version_major": 2,
              "version_minor": 0,
              "model_id": "2513fb4d661f42b59340f6622817912c"
            }
          },
          "metadata": {}
        },
        {
          "output_type": "display_data",
          "data": {
            "text/plain": [
              "Downloading (…)lve/main/config.json:   0%|          | 0.00/440 [00:00<?, ?B/s]"
            ],
            "application/vnd.jupyter.widget-view+json": {
              "version_major": 2,
              "version_minor": 0,
              "model_id": "9e605a917a0e470a90eca52097c9e73e"
            }
          },
          "metadata": {}
        }
      ]
    },
    {
      "cell_type": "markdown",
      "source": [
        "Source of the code in the cell bellow:\n",
        "https://colab.research.google.com/github/hooshvare/parsbert/blob/master/notebooks/Taaghche_Sentiment_Analysis.ipynb#scrollTo=5_YqB7S7R9AK&line=10&uniqifier=1"
      ],
      "metadata": {
        "id": "T5mV0EKCjdnk"
      }
    },
    {
      "cell_type": "code",
      "source": [
        "class InputExample:\n",
        "    \"\"\" A single example for simple sequence classification. \"\"\"\n",
        "\n",
        "    def __init__(self, guid, text_a, text_b=None, label=None):\n",
        "        \"\"\" Constructs a InputExample. \"\"\"\n",
        "        self.guid = guid\n",
        "        self.text_a = text_a\n",
        "        self.text_b = text_b\n",
        "        self.label = label\n",
        "\n",
        "\n",
        "def make_examples(tokenizer, x, y=None, maxlen=128, output_mode=\"classification\", is_tf_dataset=True):\n",
        "    examples = []\n",
        "    y = y if isinstance(y, list) or isinstance(y, np.ndarray) else [None] * len(x)\n",
        "\n",
        "    for i, (_x, _y) in tqdm(enumerate(zip(x, y)), position=0, total=len(x)):\n",
        "        guid = \"%s\" % i\n",
        "        label = int(_y)\n",
        "        \n",
        "        if isinstance(_x, str):\n",
        "            text_a = _x\n",
        "            text_b = None\n",
        "        else:\n",
        "            assert len(_x) == 2\n",
        "            text_a = _x[0]\n",
        "            text_b = _x[1]\n",
        "        \n",
        "        examples.append(InputExample(guid=guid, text_a=text_a, text_b=text_b, label=label))\n",
        "    \n",
        "    features = glue_convert_examples_to_features(\n",
        "        examples, \n",
        "        tokenizer, \n",
        "        maxlen, \n",
        "        output_mode=output_mode, \n",
        "        label_list=list(np.unique(y)))\n",
        "\n",
        "    all_input_ids = []\n",
        "    all_attention_masks = []\n",
        "    all_token_type_ids = []\n",
        "    all_labels = []\n",
        "\n",
        "    for f in tqdm(features, position=0, total=len(examples)):\n",
        "        if is_tf_dataset:\n",
        "            all_input_ids.append(tf.constant(f.input_ids))\n",
        "            all_attention_masks.append(tf.constant(f.attention_mask))\n",
        "            all_token_type_ids.append(tf.constant(f.token_type_ids))\n",
        "            all_labels.append(tf.constant(f.label))\n",
        "        else:\n",
        "            all_input_ids.append(f.input_ids)\n",
        "            all_attention_masks.append(f.attention_mask)\n",
        "            all_token_type_ids.append(f.token_type_ids)\n",
        "            all_labels.append(f.label)\n",
        "\n",
        "    if is_tf_dataset:\n",
        "        dataset = tf.data.Dataset.from_tensor_slices(({\n",
        "            'input_ids': all_input_ids,\n",
        "            'attention_mask': all_attention_masks,\n",
        "            'token_type_ids': all_token_type_ids\n",
        "        }, all_labels))\n",
        "\n",
        "        return dataset, features\n",
        "    \n",
        "    xdata = [np.array(all_input_ids), np.array(all_attention_masks), np.array(all_token_type_ids)]\n",
        "    ydata = all_labels\n",
        "\n",
        "    return [xdata, ydata], features\n",
        "\n",
        "def get_training_dataset(dataset, batch_size):\n",
        "    dataset = dataset.repeat()\n",
        "    dataset = dataset.shuffle(2048)\n",
        "    dataset = dataset.batch(batch_size)\n",
        "\n",
        "    return dataset\n",
        "\n",
        "def get_validation_dataset(dataset, batch_size):\n",
        "    dataset = dataset.batch(batch_size)\n",
        "\n",
        "    return dataset"
      ],
      "metadata": {
        "id": "1wwuhGmKiCsX"
      },
      "execution_count": 8,
      "outputs": []
    },
    {
      "cell_type": "code",
      "source": [
        "train_dataset_base, train_examples = make_examples(tokenizer, x_train, y_train, maxlen=max_length)\n",
        "valid_dataset_base, valid_examples = make_examples(tokenizer, x_val, y_val, maxlen=max_length)\n",
        "\n",
        "test_dataset_base, test_examples = make_examples(tokenizer, x_test, y_test, maxlen=max_length)\n",
        "[xtest, ytest], test_examples = make_examples(tokenizer, x_test, y_test, maxlen=max_length, is_tf_dataset=False)\n",
        "\n",
        "train_dataset = get_training_dataset(train_dataset_base, batch_size)\n",
        "valid_dataset = get_training_dataset(valid_dataset_base, batch_size)\n",
        "\n",
        "train_steps = len(train_examples) // batch_size\n",
        "valid_steps = len(valid_examples) // batch_size"
      ],
      "metadata": {
        "colab": {
          "base_uri": "https://localhost:8080/"
        },
        "id": "oTTECup4kUvD",
        "outputId": "e9684042-f08b-4de0-f01c-1cad409f6a18"
      },
      "execution_count": 9,
      "outputs": [
        {
          "output_type": "stream",
          "name": "stderr",
          "text": [
            "100%|██████████| 6988/6988 [00:00<00:00, 405700.00it/s]\n",
            "/usr/local/lib/python3.8/dist-packages/transformers/data/processors/glue.py:66: FutureWarning: This function will be removed from the library soon, preprocessing should be handled with the 🤗 Datasets library. You can have a look at this example script for pointers: https://github.com/huggingface/transformers/blob/main/examples/pytorch/text-classification/run_glue.py\n",
            "  warnings.warn(DEPRECATION_WARNING.format(\"function\"), FutureWarning)\n",
            "100%|██████████| 6988/6988 [00:04<00:00, 1601.55it/s]\n",
            "100%|██████████| 1000/1000 [00:00<00:00, 306646.00it/s]\n",
            "100%|██████████| 1000/1000 [00:00<00:00, 5978.18it/s]\n",
            "100%|██████████| 2000/2000 [00:00<00:00, 194671.93it/s]\n",
            "100%|██████████| 2000/2000 [00:00<00:00, 4246.60it/s]\n",
            "100%|██████████| 2000/2000 [00:00<00:00, 349045.40it/s]\n",
            "100%|██████████| 2000/2000 [00:00<00:00, 636175.34it/s]\n"
          ]
        }
      ]
    },
    {
      "cell_type": "markdown",
      "source": [
        "# Part A: Linear-Tuning"
      ],
      "metadata": {
        "id": "SLq7HZWoGnir"
      }
    },
    {
      "cell_type": "code",
      "source": [
        "linear_tuning_model = TFBertForSequenceClassification.from_pretrained(pre_trained_model_name, config=config)\n",
        "\n",
        "linear_tuning_model.bert.trainable = False\n",
        "\n",
        "optimizer = tf.keras.optimizers.Adam(learning_rate=lr)\n",
        "loss = tf.keras.losses.SparseCategoricalCrossentropy(from_logits=True)\n",
        "metric = tf.keras.metrics.SparseCategoricalAccuracy('accuracy')\n",
        "\n",
        "linear_tuning_model.compile(optimizer=optimizer, loss=loss, metrics=[metric])\n",
        "\n",
        "linear_tuning_model.summary()"
      ],
      "metadata": {
        "colab": {
          "base_uri": "https://localhost:8080/"
        },
        "id": "RaQHQK8ZsRrC",
        "outputId": "a6d9893b-b716-4470-ca7b-4a73507f5beb"
      },
      "execution_count": null,
      "outputs": [
        {
          "output_type": "stream",
          "name": "stderr",
          "text": [
            "All model checkpoint layers were used when initializing TFBertForSequenceClassification.\n",
            "\n",
            "Some layers of TFBertForSequenceClassification were not initialized from the model checkpoint at HooshvareLab/bert-fa-base-uncased and are newly initialized: ['classifier']\n",
            "You should probably TRAIN this model on a down-stream task to be able to use it for predictions and inference.\n"
          ]
        },
        {
          "output_type": "stream",
          "name": "stdout",
          "text": [
            "Model: \"tf_bert_for_sequence_classification\"\n",
            "_________________________________________________________________\n",
            " Layer (type)                Output Shape              Param #   \n",
            "=================================================================\n",
            " bert (TFBertMainLayer)      multiple                  162841344 \n",
            "                                                                 \n",
            " dropout_37 (Dropout)        multiple                  0         \n",
            "                                                                 \n",
            " classifier (Dense)          multiple                  7690      \n",
            "                                                                 \n",
            "=================================================================\n",
            "Total params: 162,849,034\n",
            "Trainable params: 7,690\n",
            "Non-trainable params: 162,841,344\n",
            "_________________________________________________________________\n"
          ]
        }
      ]
    },
    {
      "cell_type": "markdown",
      "source": [
        "after 40 epochs:"
      ],
      "metadata": {
        "id": "tzsjUpYU7Blt"
      }
    },
    {
      "cell_type": "code",
      "source": [
        "linear_tuning_model.fit(train_dataset, validation_data=valid_dataset, steps_per_epoch=train_steps,\n",
        "                 validation_steps=valid_steps,epochs=10,verbose=1)"
      ],
      "metadata": {
        "colab": {
          "base_uri": "https://localhost:8080/"
        },
        "id": "KHncks_1mEOp",
        "outputId": "b497b1bd-e024-4564-ff3c-aa709d269946"
      },
      "execution_count": null,
      "outputs": [
        {
          "output_type": "stream",
          "name": "stdout",
          "text": [
            "Epoch 1/10\n",
            "109/109 [==============================] - 66s 606ms/step - loss: 2.2894 - accuracy: 0.1390 - val_loss: 2.2548 - val_accuracy: 0.1625\n",
            "Epoch 2/10\n",
            "109/109 [==============================] - 68s 623ms/step - loss: 2.2875 - accuracy: 0.1319 - val_loss: 2.2458 - val_accuracy: 0.1917\n",
            "Epoch 3/10\n",
            "109/109 [==============================] - 69s 630ms/step - loss: 2.2799 - accuracy: 0.1385 - val_loss: 2.2565 - val_accuracy: 0.1875\n",
            "Epoch 4/10\n",
            "109/109 [==============================] - 69s 630ms/step - loss: 2.2790 - accuracy: 0.1408 - val_loss: 2.2534 - val_accuracy: 0.1823\n",
            "Epoch 5/10\n",
            "109/109 [==============================] - 69s 629ms/step - loss: 2.2735 - accuracy: 0.1538 - val_loss: 2.2581 - val_accuracy: 0.1583\n",
            "Epoch 6/10\n",
            "109/109 [==============================] - 69s 631ms/step - loss: 2.2745 - accuracy: 0.1366 - val_loss: 2.2487 - val_accuracy: 0.1750\n",
            "Epoch 7/10\n",
            "109/109 [==============================] - 69s 632ms/step - loss: 2.2691 - accuracy: 0.1465 - val_loss: 2.2517 - val_accuracy: 0.1781\n",
            "Epoch 8/10\n",
            "109/109 [==============================] - 69s 631ms/step - loss: 2.2644 - accuracy: 0.1517 - val_loss: 2.2442 - val_accuracy: 0.1865\n",
            "Epoch 9/10\n",
            "109/109 [==============================] - 69s 631ms/step - loss: 2.2634 - accuracy: 0.1517 - val_loss: 2.2353 - val_accuracy: 0.1969\n",
            "Epoch 10/10\n",
            "109/109 [==============================] - 69s 630ms/step - loss: 2.2617 - accuracy: 0.1560 - val_loss: 2.2373 - val_accuracy: 0.1781\n"
          ]
        },
        {
          "output_type": "execute_result",
          "data": {
            "text/plain": [
              "<keras.callbacks.History at 0x7f015d98f100>"
            ]
          },
          "metadata": {},
          "execution_count": 14
        }
      ]
    },
    {
      "cell_type": "code",
      "source": [
        "predictions = linear_tuning_model.predict(xtest)\n",
        "ypred = predictions[0].argmax(axis=-1).tolist()\n",
        "\n",
        "print(classification_report(ytest, ypred, target_names=data.poets))\n",
        "\n",
        "acc = f1_score(ytest, ypred, average='micro')\n",
        "print(f'Avg micro F1 score = {acc}')\n",
        "\n",
        "cm = metrics.confusion_matrix(ytest, ypred)\n",
        "disp = metrics.ConfusionMatrixDisplay(confusion_matrix=cm, display_labels=data.poets)\n",
        "disp.plot()\n",
        "plt.show()"
      ],
      "metadata": {
        "colab": {
          "base_uri": "https://localhost:8080/",
          "height": 753
        },
        "id": "yGWXGiJHxBiY",
        "outputId": "8ee04f46-dab6-49f1-8495-3a7c923977ca"
      },
      "execution_count": null,
      "outputs": [
        {
          "output_type": "stream",
          "name": "stdout",
          "text": [
            "63/63 [==============================] - 16s 257ms/step\n"
          ]
        },
        {
          "output_type": "stream",
          "name": "stderr",
          "text": [
            "/usr/local/lib/python3.8/dist-packages/sklearn/metrics/_classification.py:1318: UndefinedMetricWarning: Precision and F-score are ill-defined and being set to 0.0 in labels with no predicted samples. Use `zero_division` parameter to control this behavior.\n",
            "  _warn_prf(average, modifier, msg_start, len(result))\n",
            "/usr/local/lib/python3.8/dist-packages/sklearn/metrics/_classification.py:1318: UndefinedMetricWarning: Precision and F-score are ill-defined and being set to 0.0 in labels with no predicted samples. Use `zero_division` parameter to control this behavior.\n",
            "  _warn_prf(average, modifier, msg_start, len(result))\n",
            "/usr/local/lib/python3.8/dist-packages/sklearn/metrics/_classification.py:1318: UndefinedMetricWarning: Precision and F-score are ill-defined and being set to 0.0 in labels with no predicted samples. Use `zero_division` parameter to control this behavior.\n",
            "  _warn_prf(average, modifier, msg_start, len(result))\n"
          ]
        },
        {
          "output_type": "stream",
          "name": "stdout",
          "text": [
            "              precision    recall  f1-score   support\n",
            "\n",
            "     moulavi       0.25      0.12      0.16       200\n",
            "      anvari       0.20      0.08      0.11       200\n",
            "       attar       0.00      0.00      0.00       200\n",
            "       saadi       0.23      0.03      0.05       200\n",
            "       bahar       0.16      0.04      0.06       200\n",
            "    farrokhi       0.21      0.15      0.18       200\n",
            "    ferdousi       0.27      0.56      0.36       200\n",
            "      sanaee       0.15      0.11      0.13       200\n",
            "        jami       0.21      0.42      0.28       200\n",
            "      khosro       0.16      0.51      0.24       200\n",
            "\n",
            "    accuracy                           0.20      2000\n",
            "   macro avg       0.18      0.20      0.16      2000\n",
            "weighted avg       0.18      0.20      0.16      2000\n",
            "\n",
            "Avg micro F1 score = 0.2015\n"
          ]
        },
        {
          "output_type": "display_data",
          "data": {
            "text/plain": [
              "<Figure size 432x288 with 2 Axes>"
            ],
            "image/png": "[encoded data removed]"
          },
          "metadata": {
            "needs_background": "light"
          }
        }
      ]
    },
    {
      "cell_type": "markdown",
      "source": [
        "# Part B: Fine-Tuning"
      ],
      "metadata": {
        "id": "Lx2yJc0nuCvs"
      }
    },
    {
      "cell_type": "markdown",
      "source": [
        "## Adam Opt."
      ],
      "metadata": {
        "id": "hLk6nJsavqKN"
      }
    },
    {
      "cell_type": "code",
      "source": [
        "model = TFBertForSequenceClassification.from_pretrained(pre_trained_model_name, config=config)\n",
        "\n",
        "optimizer = tf.keras.optimizers.Adam(learning_rate=lr)\n",
        "loss = tf.keras.losses.SparseCategoricalCrossentropy(from_logits=True)\n",
        "metric = tf.keras.metrics.SparseCategoricalAccuracy('accuracy')\n",
        "\n",
        "model.compile(optimizer=optimizer, loss=loss, metrics=[metric])\n",
        "\n",
        "model.summary()"
      ],
      "metadata": {
        "colab": {
          "base_uri": "https://localhost:8080/",
          "height": 414,
          "referenced_widgets": [
            "8cae5ec384e74da4b09535100c5d6afe",
            "425eb2c838274f5db801e8f30276b656",
            "eaf293bf4f1f404b957e3d55ef46daaa",
            "7fafb64ea9834381ae8f85c578123dba",
            "5f56f71c2d994a46ad05c74e828da192",
            "727b422a0623448c8848dc9f2f8e559b",
            "038aa885749d49488bbf77548694b10b",
            "7a3df4d66c2f4bf1ac5a4a91b5a4fcde",
            "39115a9c9c4546bcb6e011a598d2b550",
            "ffcf11f9ca81402fb4d7f3c69ac2f69a",
            "4dadc85daeac4d23894b782669f6b895"
          ]
        },
        "id": "pNbwJXawvpUJ",
        "outputId": "b7a0f15a-f46c-4c2e-a50e-21163267ed67"
      },
      "execution_count": 10,
      "outputs": [
        {
          "output_type": "display_data",
          "data": {
            "text/plain": [
              "Downloading (…)\"tf_model.h5\";:   0%|          | 0.00/963M [00:00<?, ?B/s]"
            ],
            "application/vnd.jupyter.widget-view+json": {
              "version_major": 2,
              "version_minor": 0,
              "model_id": "8cae5ec384e74da4b09535100c5d6afe"
            }
          },
          "metadata": {}
        },
        {
          "output_type": "stream",
          "name": "stderr",
          "text": [
            "All model checkpoint layers were used when initializing TFBertForSequenceClassification.\n",
            "\n",
            "Some layers of TFBertForSequenceClassification were not initialized from the model checkpoint at HooshvareLab/bert-fa-base-uncased and are newly initialized: ['classifier']\n",
            "You should probably TRAIN this model on a down-stream task to be able to use it for predictions and inference.\n"
          ]
        },
        {
          "output_type": "stream",
          "name": "stdout",
          "text": [
            "Model: \"tf_bert_for_sequence_classification\"\n",
            "_________________________________________________________________\n",
            " Layer (type)                Output Shape              Param #   \n",
            "=================================================================\n",
            " bert (TFBertMainLayer)      multiple                  162841344 \n",
            "                                                                 \n",
            " dropout_37 (Dropout)        multiple                  0         \n",
            "                                                                 \n",
            " classifier (Dense)          multiple                  7690      \n",
            "                                                                 \n",
            "=================================================================\n",
            "Total params: 162,849,034\n",
            "Trainable params: 162,849,034\n",
            "Non-trainable params: 0\n",
            "_________________________________________________________________\n"
          ]
        }
      ]
    },
    {
      "cell_type": "code",
      "source": [
        "model.fit(train_dataset, validation_data=valid_dataset, steps_per_epoch=train_steps,\n",
        "                 validation_steps=valid_steps,epochs=10,verbose=1)"
      ],
      "metadata": {
        "colab": {
          "base_uri": "https://localhost:8080/"
        },
        "id": "o8pdAQHVwDnP",
        "outputId": "8e6902df-e751-46b8-8a9f-993eef503d5b"
      },
      "execution_count": 11,
      "outputs": [
        {
          "output_type": "stream",
          "name": "stdout",
          "text": [
            "Epoch 1/10\n",
            "109/109 [==============================] - 198s 2s/step - loss: 2.0496 - accuracy: 0.2301 - val_loss: 2.5413 - val_accuracy: 0.1104\n",
            "Epoch 2/10\n",
            "109/109 [==============================] - 170s 2s/step - loss: 1.9525 - accuracy: 0.3023 - val_loss: 2.2031 - val_accuracy: 0.2240\n",
            "Epoch 3/10\n",
            "109/109 [==============================] - 170s 2s/step - loss: 1.7103 - accuracy: 0.4004 - val_loss: 2.2782 - val_accuracy: 0.2625\n",
            "Epoch 4/10\n",
            "109/109 [==============================] - 170s 2s/step - loss: 1.5356 - accuracy: 0.4591 - val_loss: 2.1325 - val_accuracy: 0.3000\n",
            "Epoch 5/10\n",
            "109/109 [==============================] - 170s 2s/step - loss: 1.2787 - accuracy: 0.5548 - val_loss: 2.1179 - val_accuracy: 0.3104\n",
            "Epoch 6/10\n",
            "109/109 [==============================] - 170s 2s/step - loss: 1.0579 - accuracy: 0.6203 - val_loss: 2.1091 - val_accuracy: 0.3365\n",
            "Epoch 7/10\n",
            "109/109 [==============================] - 170s 2s/step - loss: 0.8658 - accuracy: 0.6928 - val_loss: 2.2653 - val_accuracy: 0.3479\n",
            "Epoch 8/10\n",
            "109/109 [==============================] - 170s 2s/step - loss: 0.6990 - accuracy: 0.7427 - val_loss: 2.5138 - val_accuracy: 0.3198\n",
            "Epoch 9/10\n",
            "109/109 [==============================] - 170s 2s/step - loss: 0.5663 - accuracy: 0.8043 - val_loss: 2.5302 - val_accuracy: 0.3417\n",
            "Epoch 10/10\n",
            "109/109 [==============================] - 170s 2s/step - loss: 0.4347 - accuracy: 0.8505 - val_loss: 2.4605 - val_accuracy: 0.3615\n"
          ]
        },
        {
          "output_type": "execute_result",
          "data": {
            "text/plain": [
              "<keras.callbacks.History at 0x7efddfebd880>"
            ]
          },
          "metadata": {},
          "execution_count": 11
        }
      ]
    },
    {
      "cell_type": "code",
      "source": [
        "predictions = model.predict(xtest)\n",
        "ypred = predictions[0].argmax(axis=-1).tolist()\n",
        "\n",
        "print(classification_report(ytest, ypred, target_names=data.poets))\n",
        "\n",
        "acc = f1_score(ytest, ypred, average='micro')\n",
        "print(f'Avg micro F1 score = {acc}')\n",
        "\n",
        "cm = metrics.confusion_matrix(ytest, ypred)\n",
        "disp = metrics.ConfusionMatrixDisplay(confusion_matrix=cm, display_labels=data.poets)\n",
        "disp.plot()\n",
        "plt.show()"
      ],
      "metadata": {
        "id": "cBRciBVBxjXy",
        "colab": {
          "base_uri": "https://localhost:8080/",
          "height": 624
        },
        "outputId": "96b2ba3b-dd65-4029-bb6e-0634b5824100"
      },
      "execution_count": 14,
      "outputs": [
        {
          "output_type": "stream",
          "name": "stdout",
          "text": [
            "63/63 [==============================] - 17s 266ms/step\n",
            "              precision    recall  f1-score   support\n",
            "\n",
            "     moulavi       0.32      0.45      0.37       200\n",
            "      anvari       0.24      0.57      0.34       200\n",
            "       attar       0.36      0.36      0.36       200\n",
            "       saadi       0.42      0.09      0.15       200\n",
            "       bahar       0.25      0.14      0.18       200\n",
            "    farrokhi       0.29      0.19      0.23       200\n",
            "    ferdousi       0.72      0.57      0.64       200\n",
            "      sanaee       0.11      0.09      0.10       200\n",
            "        jami       0.41      0.33      0.36       200\n",
            "      khosro       0.35      0.51      0.42       200\n",
            "\n",
            "    accuracy                           0.33      2000\n",
            "   macro avg       0.35      0.33      0.31      2000\n",
            "weighted avg       0.35      0.33      0.31      2000\n",
            "\n",
            "Avg micro F1 score = 0.3295\n"
          ]
        },
        {
          "output_type": "display_data",
          "data": {
            "text/plain": [
              "<Figure size 432x288 with 2 Axes>"
            ],
            "image/png": "[encoded data removed]"
          },
          "metadata": {
            "needs_background": "light"
          }
        }
      ]
    },
    {
      "cell_type": "markdown",
      "source": [
        "## SGD Opt."
      ],
      "metadata": {
        "id": "8jWGyxV-vtOn"
      }
    },
    {
      "cell_type": "code",
      "source": [
        "model = TFBertForSequenceClassification.from_pretrained(pre_trained_model_name, config=config)\n",
        "\n",
        "optimizer = tf.keras.optimizers.SGD(learning_rate=lr, momentum=0.9, nesterov=True)\n",
        "loss = tf.keras.losses.SparseCategoricalCrossentropy(from_logits=True)\n",
        "metric = tf.keras.metrics.SparseCategoricalAccuracy('accuracy')\n",
        "\n",
        "model.compile(optimizer=optimizer, loss=loss, metrics=[metric])\n",
        "\n",
        "model.summary()"
      ],
      "metadata": {
        "id": "a-3Gi33hvxvo",
        "colab": {
          "base_uri": "https://localhost:8080/"
        },
        "outputId": "f2709e3f-1673-409c-c086-9e2d4e170a52"
      },
      "execution_count": 15,
      "outputs": [
        {
          "output_type": "stream",
          "name": "stderr",
          "text": [
            "All model checkpoint layers were used when initializing TFBertForSequenceClassification.\n",
            "\n",
            "Some layers of TFBertForSequenceClassification were not initialized from the model checkpoint at HooshvareLab/bert-fa-base-uncased and are newly initialized: ['classifier']\n",
            "You should probably TRAIN this model on a down-stream task to be able to use it for predictions and inference.\n"
          ]
        },
        {
          "output_type": "stream",
          "name": "stdout",
          "text": [
            "Model: \"tf_bert_for_sequence_classification_1\"\n",
            "_________________________________________________________________\n",
            " Layer (type)                Output Shape              Param #   \n",
            "=================================================================\n",
            " bert (TFBertMainLayer)      multiple                  162841344 \n",
            "                                                                 \n",
            " dropout_75 (Dropout)        multiple                  0         \n",
            "                                                                 \n",
            " classifier (Dense)          multiple                  7690      \n",
            "                                                                 \n",
            "=================================================================\n",
            "Total params: 162,849,034\n",
            "Trainable params: 162,849,034\n",
            "Non-trainable params: 0\n",
            "_________________________________________________________________\n"
          ]
        }
      ]
    },
    {
      "cell_type": "code",
      "source": [
        "model.fit(train_dataset, validation_data=valid_dataset, steps_per_epoch=train_steps,\n",
        "                 validation_steps=valid_steps,epochs=10,verbose=1)"
      ],
      "metadata": {
        "id": "Kc2v8JKHv0ak",
        "colab": {
          "base_uri": "https://localhost:8080/"
        },
        "outputId": "687ffd1a-b72b-4e69-e3e6-94244e55dbdd"
      },
      "execution_count": 17,
      "outputs": [
        {
          "output_type": "stream",
          "name": "stdout",
          "text": [
            "Epoch 1/10\n",
            "109/109 [==============================] - 167s 2s/step - loss: 2.3170 - accuracy: 0.1260 - val_loss: 2.3069 - val_accuracy: 0.0990\n",
            "Epoch 2/10\n",
            "109/109 [==============================] - 166s 2s/step - loss: 2.3356 - accuracy: 0.0940 - val_loss: 2.2988 - val_accuracy: 0.1125\n",
            "Epoch 3/10\n",
            "109/109 [==============================] - 166s 2s/step - loss: 2.3232 - accuracy: 0.0996 - val_loss: 2.3048 - val_accuracy: 0.0938\n",
            "Epoch 4/10\n",
            "109/109 [==============================] - 166s 2s/step - loss: 2.3207 - accuracy: 0.1046 - val_loss: 2.3070 - val_accuracy: 0.1000\n",
            "Epoch 5/10\n",
            "109/109 [==============================] - 166s 2s/step - loss: 2.3185 - accuracy: 0.0996 - val_loss: 2.3020 - val_accuracy: 0.1198\n",
            "Epoch 6/10\n",
            "109/109 [==============================] - 166s 2s/step - loss: 2.3127 - accuracy: 0.1088 - val_loss: 2.2992 - val_accuracy: 0.1021\n",
            "Epoch 7/10\n",
            "109/109 [==============================] - 166s 2s/step - loss: 2.3077 - accuracy: 0.1184 - val_loss: 2.2990 - val_accuracy: 0.1042\n",
            "Epoch 8/10\n",
            "109/109 [==============================] - 166s 2s/step - loss: 2.3020 - accuracy: 0.1164 - val_loss: 2.2885 - val_accuracy: 0.1219\n",
            "Epoch 9/10\n",
            "109/109 [==============================] - 166s 2s/step - loss: 2.3021 - accuracy: 0.1122 - val_loss: 2.2848 - val_accuracy: 0.1260\n",
            "Epoch 10/10\n",
            "109/109 [==============================] - 166s 2s/step - loss: 2.2909 - accuracy: 0.1282 - val_loss: 2.2852 - val_accuracy: 0.1229\n"
          ]
        },
        {
          "output_type": "execute_result",
          "data": {
            "text/plain": [
              "<keras.callbacks.History at 0x7efc91516280>"
            ]
          },
          "metadata": {},
          "execution_count": 17
        }
      ]
    },
    {
      "cell_type": "code",
      "source": [
        "predictions = model.predict(xtest)\n",
        "ypred = predictions[0].argmax(axis=-1).tolist()\n",
        "\n",
        "print(classification_report(ytest, ypred, target_names=data.poets))\n",
        "\n",
        "acc = f1_score(ytest, ypred, average='micro')\n",
        "print(f'Avg micro F1 score = {acc}')\n",
        "\n",
        "cm = metrics.confusion_matrix(ytest, ypred)\n",
        "disp = metrics.ConfusionMatrixDisplay(confusion_matrix=cm, display_labels=data.poets)\n",
        "disp.plot()\n",
        "plt.show()"
      ],
      "metadata": {
        "id": "cZUP7dn3x4YH",
        "colab": {
          "base_uri": "https://localhost:8080/",
          "height": 624
        },
        "outputId": "464daf48-59b8-49bd-f581-8b6fa1ae1b43"
      },
      "execution_count": 19,
      "outputs": [
        {
          "output_type": "stream",
          "name": "stdout",
          "text": [
            "63/63 [==============================] - 18s 276ms/step\n",
            "              precision    recall  f1-score   support\n",
            "\n",
            "     moulavi       0.14      0.09      0.11       200\n",
            "      anvari       0.24      0.12      0.16       200\n",
            "       attar       0.10      0.01      0.03       200\n",
            "       saadi       0.35      0.04      0.06       200\n",
            "       bahar       0.09      0.04      0.06       200\n",
            "    farrokhi       0.11      0.12      0.11       200\n",
            "    ferdousi       0.21      0.28      0.24       200\n",
            "      sanaee       0.09      0.14      0.11       200\n",
            "        jami       0.18      0.41      0.26       200\n",
            "      khosro       0.14      0.24      0.18       200\n",
            "\n",
            "    accuracy                           0.15      2000\n",
            "   macro avg       0.17      0.15      0.13      2000\n",
            "weighted avg       0.17      0.15      0.13      2000\n",
            "\n",
            "Avg micro F1 score = 0.151\n"
          ]
        },
        {
          "output_type": "display_data",
          "data": {
            "text/plain": [
              "<Figure size 432x288 with 2 Axes>"
            ],
            "image/png": "[encoded data removed]"
          },
          "metadata": {
            "needs_background": "light"
          }
        }
      ]
    }
  ]
}